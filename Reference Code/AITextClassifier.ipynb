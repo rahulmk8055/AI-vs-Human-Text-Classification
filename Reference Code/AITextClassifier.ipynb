{
  "nbformat": 4,
  "nbformat_minor": 0,
  "metadata": {
    "colab": {
      "provenance": []
    },
    "kernelspec": {
      "name": "python3",
      "display_name": "Python 3"
    },
    "language_info": {
      "name": "python"
    },
    "widgets": {
      "application/vnd.jupyter.widget-state+json": {
        "41259f25ffc149e0a1ba4da3fdf560aa": {
          "model_module": "@jupyter-widgets/controls",
          "model_name": "HBoxModel",
          "model_module_version": "1.5.0",
          "state": {
            "_dom_classes": [],
            "_model_module": "@jupyter-widgets/controls",
            "_model_module_version": "1.5.0",
            "_model_name": "HBoxModel",
            "_view_count": null,
            "_view_module": "@jupyter-widgets/controls",
            "_view_module_version": "1.5.0",
            "_view_name": "HBoxView",
            "box_style": "",
            "children": [
              "IPY_MODEL_9cdd1b3e60014fb6902898f78ab8a44e",
              "IPY_MODEL_5ce2a2f012b141cab200fe7c49123f5e",
              "IPY_MODEL_2401dd5664d8407da8def3bc568d5dc1"
            ],
            "layout": "IPY_MODEL_11dbb8710eb64a2b95a8bd4ae1e40ddd"
          }
        },
        "9cdd1b3e60014fb6902898f78ab8a44e": {
          "model_module": "@jupyter-widgets/controls",
          "model_name": "HTMLModel",
          "model_module_version": "1.5.0",
          "state": {
            "_dom_classes": [],
            "_model_module": "@jupyter-widgets/controls",
            "_model_module_version": "1.5.0",
            "_model_name": "HTMLModel",
            "_view_count": null,
            "_view_module": "@jupyter-widgets/controls",
            "_view_module_version": "1.5.0",
            "_view_name": "HTMLView",
            "description": "",
            "description_tooltip": null,
            "layout": "IPY_MODEL_2101d867ab304515bab5d821a3cb129e",
            "placeholder": "​",
            "style": "IPY_MODEL_f955fd80f81e4367bd57f662fcf6356c",
            "value": "tokenizer_config.json: 100%"
          }
        },
        "5ce2a2f012b141cab200fe7c49123f5e": {
          "model_module": "@jupyter-widgets/controls",
          "model_name": "FloatProgressModel",
          "model_module_version": "1.5.0",
          "state": {
            "_dom_classes": [],
            "_model_module": "@jupyter-widgets/controls",
            "_model_module_version": "1.5.0",
            "_model_name": "FloatProgressModel",
            "_view_count": null,
            "_view_module": "@jupyter-widgets/controls",
            "_view_module_version": "1.5.0",
            "_view_name": "ProgressView",
            "bar_style": "success",
            "description": "",
            "description_tooltip": null,
            "layout": "IPY_MODEL_9899baa990f8414d941a51f70b606603",
            "max": 48,
            "min": 0,
            "orientation": "horizontal",
            "style": "IPY_MODEL_ef4f13afe0c5436a9d34ea8ba2402820",
            "value": 48
          }
        },
        "2401dd5664d8407da8def3bc568d5dc1": {
          "model_module": "@jupyter-widgets/controls",
          "model_name": "HTMLModel",
          "model_module_version": "1.5.0",
          "state": {
            "_dom_classes": [],
            "_model_module": "@jupyter-widgets/controls",
            "_model_module_version": "1.5.0",
            "_model_name": "HTMLModel",
            "_view_count": null,
            "_view_module": "@jupyter-widgets/controls",
            "_view_module_version": "1.5.0",
            "_view_name": "HTMLView",
            "description": "",
            "description_tooltip": null,
            "layout": "IPY_MODEL_1c0364533d0d4d3994497076c538df39",
            "placeholder": "​",
            "style": "IPY_MODEL_9a3ebac8885d4fb58b3662b760ff1c93",
            "value": " 48.0/48.0 [00:00&lt;00:00, 1.82kB/s]"
          }
        },
        "11dbb8710eb64a2b95a8bd4ae1e40ddd": {
          "model_module": "@jupyter-widgets/base",
          "model_name": "LayoutModel",
          "model_module_version": "1.2.0",
          "state": {
            "_model_module": "@jupyter-widgets/base",
            "_model_module_version": "1.2.0",
            "_model_name": "LayoutModel",
            "_view_count": null,
            "_view_module": "@jupyter-widgets/base",
            "_view_module_version": "1.2.0",
            "_view_name": "LayoutView",
            "align_content": null,
            "align_items": null,
            "align_self": null,
            "border": null,
            "bottom": null,
            "display": null,
            "flex": null,
            "flex_flow": null,
            "grid_area": null,
            "grid_auto_columns": null,
            "grid_auto_flow": null,
            "grid_auto_rows": null,
            "grid_column": null,
            "grid_gap": null,
            "grid_row": null,
            "grid_template_areas": null,
            "grid_template_columns": null,
            "grid_template_rows": null,
            "height": null,
            "justify_content": null,
            "justify_items": null,
            "left": null,
            "margin": null,
            "max_height": null,
            "max_width": null,
            "min_height": null,
            "min_width": null,
            "object_fit": null,
            "object_position": null,
            "order": null,
            "overflow": null,
            "overflow_x": null,
            "overflow_y": null,
            "padding": null,
            "right": null,
            "top": null,
            "visibility": null,
            "width": null
          }
        },
        "2101d867ab304515bab5d821a3cb129e": {
          "model_module": "@jupyter-widgets/base",
          "model_name": "LayoutModel",
          "model_module_version": "1.2.0",
          "state": {
            "_model_module": "@jupyter-widgets/base",
            "_model_module_version": "1.2.0",
            "_model_name": "LayoutModel",
            "_view_count": null,
            "_view_module": "@jupyter-widgets/base",
            "_view_module_version": "1.2.0",
            "_view_name": "LayoutView",
            "align_content": null,
            "align_items": null,
            "align_self": null,
            "border": null,
            "bottom": null,
            "display": null,
            "flex": null,
            "flex_flow": null,
            "grid_area": null,
            "grid_auto_columns": null,
            "grid_auto_flow": null,
            "grid_auto_rows": null,
            "grid_column": null,
            "grid_gap": null,
            "grid_row": null,
            "grid_template_areas": null,
            "grid_template_columns": null,
            "grid_template_rows": null,
            "height": null,
            "justify_content": null,
            "justify_items": null,
            "left": null,
            "margin": null,
            "max_height": null,
            "max_width": null,
            "min_height": null,
            "min_width": null,
            "object_fit": null,
            "object_position": null,
            "order": null,
            "overflow": null,
            "overflow_x": null,
            "overflow_y": null,
            "padding": null,
            "right": null,
            "top": null,
            "visibility": null,
            "width": null
          }
        },
        "f955fd80f81e4367bd57f662fcf6356c": {
          "model_module": "@jupyter-widgets/controls",
          "model_name": "DescriptionStyleModel",
          "model_module_version": "1.5.0",
          "state": {
            "_model_module": "@jupyter-widgets/controls",
            "_model_module_version": "1.5.0",
            "_model_name": "DescriptionStyleModel",
            "_view_count": null,
            "_view_module": "@jupyter-widgets/base",
            "_view_module_version": "1.2.0",
            "_view_name": "StyleView",
            "description_width": ""
          }
        },
        "9899baa990f8414d941a51f70b606603": {
          "model_module": "@jupyter-widgets/base",
          "model_name": "LayoutModel",
          "model_module_version": "1.2.0",
          "state": {
            "_model_module": "@jupyter-widgets/base",
            "_model_module_version": "1.2.0",
            "_model_name": "LayoutModel",
            "_view_count": null,
            "_view_module": "@jupyter-widgets/base",
            "_view_module_version": "1.2.0",
            "_view_name": "LayoutView",
            "align_content": null,
            "align_items": null,
            "align_self": null,
            "border": null,
            "bottom": null,
            "display": null,
            "flex": null,
            "flex_flow": null,
            "grid_area": null,
            "grid_auto_columns": null,
            "grid_auto_flow": null,
            "grid_auto_rows": null,
            "grid_column": null,
            "grid_gap": null,
            "grid_row": null,
            "grid_template_areas": null,
            "grid_template_columns": null,
            "grid_template_rows": null,
            "height": null,
            "justify_content": null,
            "justify_items": null,
            "left": null,
            "margin": null,
            "max_height": null,
            "max_width": null,
            "min_height": null,
            "min_width": null,
            "object_fit": null,
            "object_position": null,
            "order": null,
            "overflow": null,
            "overflow_x": null,
            "overflow_y": null,
            "padding": null,
            "right": null,
            "top": null,
            "visibility": null,
            "width": null
          }
        },
        "ef4f13afe0c5436a9d34ea8ba2402820": {
          "model_module": "@jupyter-widgets/controls",
          "model_name": "ProgressStyleModel",
          "model_module_version": "1.5.0",
          "state": {
            "_model_module": "@jupyter-widgets/controls",
            "_model_module_version": "1.5.0",
            "_model_name": "ProgressStyleModel",
            "_view_count": null,
            "_view_module": "@jupyter-widgets/base",
            "_view_module_version": "1.2.0",
            "_view_name": "StyleView",
            "bar_color": null,
            "description_width": ""
          }
        },
        "1c0364533d0d4d3994497076c538df39": {
          "model_module": "@jupyter-widgets/base",
          "model_name": "LayoutModel",
          "model_module_version": "1.2.0",
          "state": {
            "_model_module": "@jupyter-widgets/base",
            "_model_module_version": "1.2.0",
            "_model_name": "LayoutModel",
            "_view_count": null,
            "_view_module": "@jupyter-widgets/base",
            "_view_module_version": "1.2.0",
            "_view_name": "LayoutView",
            "align_content": null,
            "align_items": null,
            "align_self": null,
            "border": null,
            "bottom": null,
            "display": null,
            "flex": null,
            "flex_flow": null,
            "grid_area": null,
            "grid_auto_columns": null,
            "grid_auto_flow": null,
            "grid_auto_rows": null,
            "grid_column": null,
            "grid_gap": null,
            "grid_row": null,
            "grid_template_areas": null,
            "grid_template_columns": null,
            "grid_template_rows": null,
            "height": null,
            "justify_content": null,
            "justify_items": null,
            "left": null,
            "margin": null,
            "max_height": null,
            "max_width": null,
            "min_height": null,
            "min_width": null,
            "object_fit": null,
            "object_position": null,
            "order": null,
            "overflow": null,
            "overflow_x": null,
            "overflow_y": null,
            "padding": null,
            "right": null,
            "top": null,
            "visibility": null,
            "width": null
          }
        },
        "9a3ebac8885d4fb58b3662b760ff1c93": {
          "model_module": "@jupyter-widgets/controls",
          "model_name": "DescriptionStyleModel",
          "model_module_version": "1.5.0",
          "state": {
            "_model_module": "@jupyter-widgets/controls",
            "_model_module_version": "1.5.0",
            "_model_name": "DescriptionStyleModel",
            "_view_count": null,
            "_view_module": "@jupyter-widgets/base",
            "_view_module_version": "1.2.0",
            "_view_name": "StyleView",
            "description_width": ""
          }
        },
        "0b0ef51a36ff47bfb9f4f4471abd0b3b": {
          "model_module": "@jupyter-widgets/controls",
          "model_name": "HBoxModel",
          "model_module_version": "1.5.0",
          "state": {
            "_dom_classes": [],
            "_model_module": "@jupyter-widgets/controls",
            "_model_module_version": "1.5.0",
            "_model_name": "HBoxModel",
            "_view_count": null,
            "_view_module": "@jupyter-widgets/controls",
            "_view_module_version": "1.5.0",
            "_view_name": "HBoxView",
            "box_style": "",
            "children": [
              "IPY_MODEL_58e0381557fc4341af3b113b27aaa58d",
              "IPY_MODEL_adf2158928a24201a8707be7ab748986",
              "IPY_MODEL_9d0ae1d2c0074d6a98aa564c85655701"
            ],
            "layout": "IPY_MODEL_07771043c6a942c59fd7ab51853f12c4"
          }
        },
        "58e0381557fc4341af3b113b27aaa58d": {
          "model_module": "@jupyter-widgets/controls",
          "model_name": "HTMLModel",
          "model_module_version": "1.5.0",
          "state": {
            "_dom_classes": [],
            "_model_module": "@jupyter-widgets/controls",
            "_model_module_version": "1.5.0",
            "_model_name": "HTMLModel",
            "_view_count": null,
            "_view_module": "@jupyter-widgets/controls",
            "_view_module_version": "1.5.0",
            "_view_name": "HTMLView",
            "description": "",
            "description_tooltip": null,
            "layout": "IPY_MODEL_f1cd1bf3991b4448ae8ab75bedcf5498",
            "placeholder": "​",
            "style": "IPY_MODEL_d991ee1973a24de0bc26b1e570e1ec73",
            "value": "vocab.txt: 100%"
          }
        },
        "adf2158928a24201a8707be7ab748986": {
          "model_module": "@jupyter-widgets/controls",
          "model_name": "FloatProgressModel",
          "model_module_version": "1.5.0",
          "state": {
            "_dom_classes": [],
            "_model_module": "@jupyter-widgets/controls",
            "_model_module_version": "1.5.0",
            "_model_name": "FloatProgressModel",
            "_view_count": null,
            "_view_module": "@jupyter-widgets/controls",
            "_view_module_version": "1.5.0",
            "_view_name": "ProgressView",
            "bar_style": "success",
            "description": "",
            "description_tooltip": null,
            "layout": "IPY_MODEL_8c72921dc005434587937dfcb6f7c495",
            "max": 231508,
            "min": 0,
            "orientation": "horizontal",
            "style": "IPY_MODEL_20485e6d9cdb4447b23acd5e49abd2da",
            "value": 231508
          }
        },
        "9d0ae1d2c0074d6a98aa564c85655701": {
          "model_module": "@jupyter-widgets/controls",
          "model_name": "HTMLModel",
          "model_module_version": "1.5.0",
          "state": {
            "_dom_classes": [],
            "_model_module": "@jupyter-widgets/controls",
            "_model_module_version": "1.5.0",
            "_model_name": "HTMLModel",
            "_view_count": null,
            "_view_module": "@jupyter-widgets/controls",
            "_view_module_version": "1.5.0",
            "_view_name": "HTMLView",
            "description": "",
            "description_tooltip": null,
            "layout": "IPY_MODEL_c2c5588e9764490680d4e5ea542b9035",
            "placeholder": "​",
            "style": "IPY_MODEL_9da39477c3d841d98eddbce5ec24ddfa",
            "value": " 232k/232k [00:00&lt;00:00, 6.74MB/s]"
          }
        },
        "07771043c6a942c59fd7ab51853f12c4": {
          "model_module": "@jupyter-widgets/base",
          "model_name": "LayoutModel",
          "model_module_version": "1.2.0",
          "state": {
            "_model_module": "@jupyter-widgets/base",
            "_model_module_version": "1.2.0",
            "_model_name": "LayoutModel",
            "_view_count": null,
            "_view_module": "@jupyter-widgets/base",
            "_view_module_version": "1.2.0",
            "_view_name": "LayoutView",
            "align_content": null,
            "align_items": null,
            "align_self": null,
            "border": null,
            "bottom": null,
            "display": null,
            "flex": null,
            "flex_flow": null,
            "grid_area": null,
            "grid_auto_columns": null,
            "grid_auto_flow": null,
            "grid_auto_rows": null,
            "grid_column": null,
            "grid_gap": null,
            "grid_row": null,
            "grid_template_areas": null,
            "grid_template_columns": null,
            "grid_template_rows": null,
            "height": null,
            "justify_content": null,
            "justify_items": null,
            "left": null,
            "margin": null,
            "max_height": null,
            "max_width": null,
            "min_height": null,
            "min_width": null,
            "object_fit": null,
            "object_position": null,
            "order": null,
            "overflow": null,
            "overflow_x": null,
            "overflow_y": null,
            "padding": null,
            "right": null,
            "top": null,
            "visibility": null,
            "width": null
          }
        },
        "f1cd1bf3991b4448ae8ab75bedcf5498": {
          "model_module": "@jupyter-widgets/base",
          "model_name": "LayoutModel",
          "model_module_version": "1.2.0",
          "state": {
            "_model_module": "@jupyter-widgets/base",
            "_model_module_version": "1.2.0",
            "_model_name": "LayoutModel",
            "_view_count": null,
            "_view_module": "@jupyter-widgets/base",
            "_view_module_version": "1.2.0",
            "_view_name": "LayoutView",
            "align_content": null,
            "align_items": null,
            "align_self": null,
            "border": null,
            "bottom": null,
            "display": null,
            "flex": null,
            "flex_flow": null,
            "grid_area": null,
            "grid_auto_columns": null,
            "grid_auto_flow": null,
            "grid_auto_rows": null,
            "grid_column": null,
            "grid_gap": null,
            "grid_row": null,
            "grid_template_areas": null,
            "grid_template_columns": null,
            "grid_template_rows": null,
            "height": null,
            "justify_content": null,
            "justify_items": null,
            "left": null,
            "margin": null,
            "max_height": null,
            "max_width": null,
            "min_height": null,
            "min_width": null,
            "object_fit": null,
            "object_position": null,
            "order": null,
            "overflow": null,
            "overflow_x": null,
            "overflow_y": null,
            "padding": null,
            "right": null,
            "top": null,
            "visibility": null,
            "width": null
          }
        },
        "d991ee1973a24de0bc26b1e570e1ec73": {
          "model_module": "@jupyter-widgets/controls",
          "model_name": "DescriptionStyleModel",
          "model_module_version": "1.5.0",
          "state": {
            "_model_module": "@jupyter-widgets/controls",
            "_model_module_version": "1.5.0",
            "_model_name": "DescriptionStyleModel",
            "_view_count": null,
            "_view_module": "@jupyter-widgets/base",
            "_view_module_version": "1.2.0",
            "_view_name": "StyleView",
            "description_width": ""
          }
        },
        "8c72921dc005434587937dfcb6f7c495": {
          "model_module": "@jupyter-widgets/base",
          "model_name": "LayoutModel",
          "model_module_version": "1.2.0",
          "state": {
            "_model_module": "@jupyter-widgets/base",
            "_model_module_version": "1.2.0",
            "_model_name": "LayoutModel",
            "_view_count": null,
            "_view_module": "@jupyter-widgets/base",
            "_view_module_version": "1.2.0",
            "_view_name": "LayoutView",
            "align_content": null,
            "align_items": null,
            "align_self": null,
            "border": null,
            "bottom": null,
            "display": null,
            "flex": null,
            "flex_flow": null,
            "grid_area": null,
            "grid_auto_columns": null,
            "grid_auto_flow": null,
            "grid_auto_rows": null,
            "grid_column": null,
            "grid_gap": null,
            "grid_row": null,
            "grid_template_areas": null,
            "grid_template_columns": null,
            "grid_template_rows": null,
            "height": null,
            "justify_content": null,
            "justify_items": null,
            "left": null,
            "margin": null,
            "max_height": null,
            "max_width": null,
            "min_height": null,
            "min_width": null,
            "object_fit": null,
            "object_position": null,
            "order": null,
            "overflow": null,
            "overflow_x": null,
            "overflow_y": null,
            "padding": null,
            "right": null,
            "top": null,
            "visibility": null,
            "width": null
          }
        },
        "20485e6d9cdb4447b23acd5e49abd2da": {
          "model_module": "@jupyter-widgets/controls",
          "model_name": "ProgressStyleModel",
          "model_module_version": "1.5.0",
          "state": {
            "_model_module": "@jupyter-widgets/controls",
            "_model_module_version": "1.5.0",
            "_model_name": "ProgressStyleModel",
            "_view_count": null,
            "_view_module": "@jupyter-widgets/base",
            "_view_module_version": "1.2.0",
            "_view_name": "StyleView",
            "bar_color": null,
            "description_width": ""
          }
        },
        "c2c5588e9764490680d4e5ea542b9035": {
          "model_module": "@jupyter-widgets/base",
          "model_name": "LayoutModel",
          "model_module_version": "1.2.0",
          "state": {
            "_model_module": "@jupyter-widgets/base",
            "_model_module_version": "1.2.0",
            "_model_name": "LayoutModel",
            "_view_count": null,
            "_view_module": "@jupyter-widgets/base",
            "_view_module_version": "1.2.0",
            "_view_name": "LayoutView",
            "align_content": null,
            "align_items": null,
            "align_self": null,
            "border": null,
            "bottom": null,
            "display": null,
            "flex": null,
            "flex_flow": null,
            "grid_area": null,
            "grid_auto_columns": null,
            "grid_auto_flow": null,
            "grid_auto_rows": null,
            "grid_column": null,
            "grid_gap": null,
            "grid_row": null,
            "grid_template_areas": null,
            "grid_template_columns": null,
            "grid_template_rows": null,
            "height": null,
            "justify_content": null,
            "justify_items": null,
            "left": null,
            "margin": null,
            "max_height": null,
            "max_width": null,
            "min_height": null,
            "min_width": null,
            "object_fit": null,
            "object_position": null,
            "order": null,
            "overflow": null,
            "overflow_x": null,
            "overflow_y": null,
            "padding": null,
            "right": null,
            "top": null,
            "visibility": null,
            "width": null
          }
        },
        "9da39477c3d841d98eddbce5ec24ddfa": {
          "model_module": "@jupyter-widgets/controls",
          "model_name": "DescriptionStyleModel",
          "model_module_version": "1.5.0",
          "state": {
            "_model_module": "@jupyter-widgets/controls",
            "_model_module_version": "1.5.0",
            "_model_name": "DescriptionStyleModel",
            "_view_count": null,
            "_view_module": "@jupyter-widgets/base",
            "_view_module_version": "1.2.0",
            "_view_name": "StyleView",
            "description_width": ""
          }
        },
        "5c4ef7fe70404e70867de53605915fa9": {
          "model_module": "@jupyter-widgets/controls",
          "model_name": "HBoxModel",
          "model_module_version": "1.5.0",
          "state": {
            "_dom_classes": [],
            "_model_module": "@jupyter-widgets/controls",
            "_model_module_version": "1.5.0",
            "_model_name": "HBoxModel",
            "_view_count": null,
            "_view_module": "@jupyter-widgets/controls",
            "_view_module_version": "1.5.0",
            "_view_name": "HBoxView",
            "box_style": "",
            "children": [
              "IPY_MODEL_99659c3f898c4d119e2d80b3e6a5b1c9",
              "IPY_MODEL_fe2739b3c9444935899876bb12ca7c0a",
              "IPY_MODEL_343776ae00e048239e8ecce9bde9624e"
            ],
            "layout": "IPY_MODEL_99104aaf7de94937944e17197b18b0bd"
          }
        },
        "99659c3f898c4d119e2d80b3e6a5b1c9": {
          "model_module": "@jupyter-widgets/controls",
          "model_name": "HTMLModel",
          "model_module_version": "1.5.0",
          "state": {
            "_dom_classes": [],
            "_model_module": "@jupyter-widgets/controls",
            "_model_module_version": "1.5.0",
            "_model_name": "HTMLModel",
            "_view_count": null,
            "_view_module": "@jupyter-widgets/controls",
            "_view_module_version": "1.5.0",
            "_view_name": "HTMLView",
            "description": "",
            "description_tooltip": null,
            "layout": "IPY_MODEL_33cbccd36e864746813eea670ecb5de0",
            "placeholder": "​",
            "style": "IPY_MODEL_7b1706279aa54e81b581e2e6e2fe9f93",
            "value": "tokenizer.json: 100%"
          }
        },
        "fe2739b3c9444935899876bb12ca7c0a": {
          "model_module": "@jupyter-widgets/controls",
          "model_name": "FloatProgressModel",
          "model_module_version": "1.5.0",
          "state": {
            "_dom_classes": [],
            "_model_module": "@jupyter-widgets/controls",
            "_model_module_version": "1.5.0",
            "_model_name": "FloatProgressModel",
            "_view_count": null,
            "_view_module": "@jupyter-widgets/controls",
            "_view_module_version": "1.5.0",
            "_view_name": "ProgressView",
            "bar_style": "success",
            "description": "",
            "description_tooltip": null,
            "layout": "IPY_MODEL_6d3695ccf79e4988979b2761546b90da",
            "max": 466062,
            "min": 0,
            "orientation": "horizontal",
            "style": "IPY_MODEL_6fbf66f7316c4ba3a340215f4e431786",
            "value": 466062
          }
        },
        "343776ae00e048239e8ecce9bde9624e": {
          "model_module": "@jupyter-widgets/controls",
          "model_name": "HTMLModel",
          "model_module_version": "1.5.0",
          "state": {
            "_dom_classes": [],
            "_model_module": "@jupyter-widgets/controls",
            "_model_module_version": "1.5.0",
            "_model_name": "HTMLModel",
            "_view_count": null,
            "_view_module": "@jupyter-widgets/controls",
            "_view_module_version": "1.5.0",
            "_view_name": "HTMLView",
            "description": "",
            "description_tooltip": null,
            "layout": "IPY_MODEL_768fd72dd8904904a70e3292302f1b26",
            "placeholder": "​",
            "style": "IPY_MODEL_9d8b489cbfd4436bbbc9e067b46539ad",
            "value": " 466k/466k [00:00&lt;00:00, 14.0MB/s]"
          }
        },
        "99104aaf7de94937944e17197b18b0bd": {
          "model_module": "@jupyter-widgets/base",
          "model_name": "LayoutModel",
          "model_module_version": "1.2.0",
          "state": {
            "_model_module": "@jupyter-widgets/base",
            "_model_module_version": "1.2.0",
            "_model_name": "LayoutModel",
            "_view_count": null,
            "_view_module": "@jupyter-widgets/base",
            "_view_module_version": "1.2.0",
            "_view_name": "LayoutView",
            "align_content": null,
            "align_items": null,
            "align_self": null,
            "border": null,
            "bottom": null,
            "display": null,
            "flex": null,
            "flex_flow": null,
            "grid_area": null,
            "grid_auto_columns": null,
            "grid_auto_flow": null,
            "grid_auto_rows": null,
            "grid_column": null,
            "grid_gap": null,
            "grid_row": null,
            "grid_template_areas": null,
            "grid_template_columns": null,
            "grid_template_rows": null,
            "height": null,
            "justify_content": null,
            "justify_items": null,
            "left": null,
            "margin": null,
            "max_height": null,
            "max_width": null,
            "min_height": null,
            "min_width": null,
            "object_fit": null,
            "object_position": null,
            "order": null,
            "overflow": null,
            "overflow_x": null,
            "overflow_y": null,
            "padding": null,
            "right": null,
            "top": null,
            "visibility": null,
            "width": null
          }
        },
        "33cbccd36e864746813eea670ecb5de0": {
          "model_module": "@jupyter-widgets/base",
          "model_name": "LayoutModel",
          "model_module_version": "1.2.0",
          "state": {
            "_model_module": "@jupyter-widgets/base",
            "_model_module_version": "1.2.0",
            "_model_name": "LayoutModel",
            "_view_count": null,
            "_view_module": "@jupyter-widgets/base",
            "_view_module_version": "1.2.0",
            "_view_name": "LayoutView",
            "align_content": null,
            "align_items": null,
            "align_self": null,
            "border": null,
            "bottom": null,
            "display": null,
            "flex": null,
            "flex_flow": null,
            "grid_area": null,
            "grid_auto_columns": null,
            "grid_auto_flow": null,
            "grid_auto_rows": null,
            "grid_column": null,
            "grid_gap": null,
            "grid_row": null,
            "grid_template_areas": null,
            "grid_template_columns": null,
            "grid_template_rows": null,
            "height": null,
            "justify_content": null,
            "justify_items": null,
            "left": null,
            "margin": null,
            "max_height": null,
            "max_width": null,
            "min_height": null,
            "min_width": null,
            "object_fit": null,
            "object_position": null,
            "order": null,
            "overflow": null,
            "overflow_x": null,
            "overflow_y": null,
            "padding": null,
            "right": null,
            "top": null,
            "visibility": null,
            "width": null
          }
        },
        "7b1706279aa54e81b581e2e6e2fe9f93": {
          "model_module": "@jupyter-widgets/controls",
          "model_name": "DescriptionStyleModel",
          "model_module_version": "1.5.0",
          "state": {
            "_model_module": "@jupyter-widgets/controls",
            "_model_module_version": "1.5.0",
            "_model_name": "DescriptionStyleModel",
            "_view_count": null,
            "_view_module": "@jupyter-widgets/base",
            "_view_module_version": "1.2.0",
            "_view_name": "StyleView",
            "description_width": ""
          }
        },
        "6d3695ccf79e4988979b2761546b90da": {
          "model_module": "@jupyter-widgets/base",
          "model_name": "LayoutModel",
          "model_module_version": "1.2.0",
          "state": {
            "_model_module": "@jupyter-widgets/base",
            "_model_module_version": "1.2.0",
            "_model_name": "LayoutModel",
            "_view_count": null,
            "_view_module": "@jupyter-widgets/base",
            "_view_module_version": "1.2.0",
            "_view_name": "LayoutView",
            "align_content": null,
            "align_items": null,
            "align_self": null,
            "border": null,
            "bottom": null,
            "display": null,
            "flex": null,
            "flex_flow": null,
            "grid_area": null,
            "grid_auto_columns": null,
            "grid_auto_flow": null,
            "grid_auto_rows": null,
            "grid_column": null,
            "grid_gap": null,
            "grid_row": null,
            "grid_template_areas": null,
            "grid_template_columns": null,
            "grid_template_rows": null,
            "height": null,
            "justify_content": null,
            "justify_items": null,
            "left": null,
            "margin": null,
            "max_height": null,
            "max_width": null,
            "min_height": null,
            "min_width": null,
            "object_fit": null,
            "object_position": null,
            "order": null,
            "overflow": null,
            "overflow_x": null,
            "overflow_y": null,
            "padding": null,
            "right": null,
            "top": null,
            "visibility": null,
            "width": null
          }
        },
        "6fbf66f7316c4ba3a340215f4e431786": {
          "model_module": "@jupyter-widgets/controls",
          "model_name": "ProgressStyleModel",
          "model_module_version": "1.5.0",
          "state": {
            "_model_module": "@jupyter-widgets/controls",
            "_model_module_version": "1.5.0",
            "_model_name": "ProgressStyleModel",
            "_view_count": null,
            "_view_module": "@jupyter-widgets/base",
            "_view_module_version": "1.2.0",
            "_view_name": "StyleView",
            "bar_color": null,
            "description_width": ""
          }
        },
        "768fd72dd8904904a70e3292302f1b26": {
          "model_module": "@jupyter-widgets/base",
          "model_name": "LayoutModel",
          "model_module_version": "1.2.0",
          "state": {
            "_model_module": "@jupyter-widgets/base",
            "_model_module_version": "1.2.0",
            "_model_name": "LayoutModel",
            "_view_count": null,
            "_view_module": "@jupyter-widgets/base",
            "_view_module_version": "1.2.0",
            "_view_name": "LayoutView",
            "align_content": null,
            "align_items": null,
            "align_self": null,
            "border": null,
            "bottom": null,
            "display": null,
            "flex": null,
            "flex_flow": null,
            "grid_area": null,
            "grid_auto_columns": null,
            "grid_auto_flow": null,
            "grid_auto_rows": null,
            "grid_column": null,
            "grid_gap": null,
            "grid_row": null,
            "grid_template_areas": null,
            "grid_template_columns": null,
            "grid_template_rows": null,
            "height": null,
            "justify_content": null,
            "justify_items": null,
            "left": null,
            "margin": null,
            "max_height": null,
            "max_width": null,
            "min_height": null,
            "min_width": null,
            "object_fit": null,
            "object_position": null,
            "order": null,
            "overflow": null,
            "overflow_x": null,
            "overflow_y": null,
            "padding": null,
            "right": null,
            "top": null,
            "visibility": null,
            "width": null
          }
        },
        "9d8b489cbfd4436bbbc9e067b46539ad": {
          "model_module": "@jupyter-widgets/controls",
          "model_name": "DescriptionStyleModel",
          "model_module_version": "1.5.0",
          "state": {
            "_model_module": "@jupyter-widgets/controls",
            "_model_module_version": "1.5.0",
            "_model_name": "DescriptionStyleModel",
            "_view_count": null,
            "_view_module": "@jupyter-widgets/base",
            "_view_module_version": "1.2.0",
            "_view_name": "StyleView",
            "description_width": ""
          }
        },
        "54bdc11b099d492b93e9ae6855b1680e": {
          "model_module": "@jupyter-widgets/controls",
          "model_name": "HBoxModel",
          "model_module_version": "1.5.0",
          "state": {
            "_dom_classes": [],
            "_model_module": "@jupyter-widgets/controls",
            "_model_module_version": "1.5.0",
            "_model_name": "HBoxModel",
            "_view_count": null,
            "_view_module": "@jupyter-widgets/controls",
            "_view_module_version": "1.5.0",
            "_view_name": "HBoxView",
            "box_style": "",
            "children": [
              "IPY_MODEL_3e69ee894cf2441bbfcd3d9ec331456e",
              "IPY_MODEL_ce6df212e1404ef891d296d6bde2268c",
              "IPY_MODEL_ca1c52bb479e4cefa9a920625a68fe17"
            ],
            "layout": "IPY_MODEL_391a5bfc03ae4736998ec72d81b3dccb"
          }
        },
        "3e69ee894cf2441bbfcd3d9ec331456e": {
          "model_module": "@jupyter-widgets/controls",
          "model_name": "HTMLModel",
          "model_module_version": "1.5.0",
          "state": {
            "_dom_classes": [],
            "_model_module": "@jupyter-widgets/controls",
            "_model_module_version": "1.5.0",
            "_model_name": "HTMLModel",
            "_view_count": null,
            "_view_module": "@jupyter-widgets/controls",
            "_view_module_version": "1.5.0",
            "_view_name": "HTMLView",
            "description": "",
            "description_tooltip": null,
            "layout": "IPY_MODEL_d78393ba532f4f15b1fe85e0490015c8",
            "placeholder": "​",
            "style": "IPY_MODEL_ca5dba14abf54e6e924798522b46c400",
            "value": "config.json: 100%"
          }
        },
        "ce6df212e1404ef891d296d6bde2268c": {
          "model_module": "@jupyter-widgets/controls",
          "model_name": "FloatProgressModel",
          "model_module_version": "1.5.0",
          "state": {
            "_dom_classes": [],
            "_model_module": "@jupyter-widgets/controls",
            "_model_module_version": "1.5.0",
            "_model_name": "FloatProgressModel",
            "_view_count": null,
            "_view_module": "@jupyter-widgets/controls",
            "_view_module_version": "1.5.0",
            "_view_name": "ProgressView",
            "bar_style": "success",
            "description": "",
            "description_tooltip": null,
            "layout": "IPY_MODEL_b0b05e770afb43a0a675fc55ded1ed19",
            "max": 570,
            "min": 0,
            "orientation": "horizontal",
            "style": "IPY_MODEL_636465c471344c8786daab8007f8c142",
            "value": 570
          }
        },
        "ca1c52bb479e4cefa9a920625a68fe17": {
          "model_module": "@jupyter-widgets/controls",
          "model_name": "HTMLModel",
          "model_module_version": "1.5.0",
          "state": {
            "_dom_classes": [],
            "_model_module": "@jupyter-widgets/controls",
            "_model_module_version": "1.5.0",
            "_model_name": "HTMLModel",
            "_view_count": null,
            "_view_module": "@jupyter-widgets/controls",
            "_view_module_version": "1.5.0",
            "_view_name": "HTMLView",
            "description": "",
            "description_tooltip": null,
            "layout": "IPY_MODEL_546314c34c9c486c9b3e274bed6706a6",
            "placeholder": "​",
            "style": "IPY_MODEL_33504066ae8448fd8fba18616d64b71c",
            "value": " 570/570 [00:00&lt;00:00, 17.8kB/s]"
          }
        },
        "391a5bfc03ae4736998ec72d81b3dccb": {
          "model_module": "@jupyter-widgets/base",
          "model_name": "LayoutModel",
          "model_module_version": "1.2.0",
          "state": {
            "_model_module": "@jupyter-widgets/base",
            "_model_module_version": "1.2.0",
            "_model_name": "LayoutModel",
            "_view_count": null,
            "_view_module": "@jupyter-widgets/base",
            "_view_module_version": "1.2.0",
            "_view_name": "LayoutView",
            "align_content": null,
            "align_items": null,
            "align_self": null,
            "border": null,
            "bottom": null,
            "display": null,
            "flex": null,
            "flex_flow": null,
            "grid_area": null,
            "grid_auto_columns": null,
            "grid_auto_flow": null,
            "grid_auto_rows": null,
            "grid_column": null,
            "grid_gap": null,
            "grid_row": null,
            "grid_template_areas": null,
            "grid_template_columns": null,
            "grid_template_rows": null,
            "height": null,
            "justify_content": null,
            "justify_items": null,
            "left": null,
            "margin": null,
            "max_height": null,
            "max_width": null,
            "min_height": null,
            "min_width": null,
            "object_fit": null,
            "object_position": null,
            "order": null,
            "overflow": null,
            "overflow_x": null,
            "overflow_y": null,
            "padding": null,
            "right": null,
            "top": null,
            "visibility": null,
            "width": null
          }
        },
        "d78393ba532f4f15b1fe85e0490015c8": {
          "model_module": "@jupyter-widgets/base",
          "model_name": "LayoutModel",
          "model_module_version": "1.2.0",
          "state": {
            "_model_module": "@jupyter-widgets/base",
            "_model_module_version": "1.2.0",
            "_model_name": "LayoutModel",
            "_view_count": null,
            "_view_module": "@jupyter-widgets/base",
            "_view_module_version": "1.2.0",
            "_view_name": "LayoutView",
            "align_content": null,
            "align_items": null,
            "align_self": null,
            "border": null,
            "bottom": null,
            "display": null,
            "flex": null,
            "flex_flow": null,
            "grid_area": null,
            "grid_auto_columns": null,
            "grid_auto_flow": null,
            "grid_auto_rows": null,
            "grid_column": null,
            "grid_gap": null,
            "grid_row": null,
            "grid_template_areas": null,
            "grid_template_columns": null,
            "grid_template_rows": null,
            "height": null,
            "justify_content": null,
            "justify_items": null,
            "left": null,
            "margin": null,
            "max_height": null,
            "max_width": null,
            "min_height": null,
            "min_width": null,
            "object_fit": null,
            "object_position": null,
            "order": null,
            "overflow": null,
            "overflow_x": null,
            "overflow_y": null,
            "padding": null,
            "right": null,
            "top": null,
            "visibility": null,
            "width": null
          }
        },
        "ca5dba14abf54e6e924798522b46c400": {
          "model_module": "@jupyter-widgets/controls",
          "model_name": "DescriptionStyleModel",
          "model_module_version": "1.5.0",
          "state": {
            "_model_module": "@jupyter-widgets/controls",
            "_model_module_version": "1.5.0",
            "_model_name": "DescriptionStyleModel",
            "_view_count": null,
            "_view_module": "@jupyter-widgets/base",
            "_view_module_version": "1.2.0",
            "_view_name": "StyleView",
            "description_width": ""
          }
        },
        "b0b05e770afb43a0a675fc55ded1ed19": {
          "model_module": "@jupyter-widgets/base",
          "model_name": "LayoutModel",
          "model_module_version": "1.2.0",
          "state": {
            "_model_module": "@jupyter-widgets/base",
            "_model_module_version": "1.2.0",
            "_model_name": "LayoutModel",
            "_view_count": null,
            "_view_module": "@jupyter-widgets/base",
            "_view_module_version": "1.2.0",
            "_view_name": "LayoutView",
            "align_content": null,
            "align_items": null,
            "align_self": null,
            "border": null,
            "bottom": null,
            "display": null,
            "flex": null,
            "flex_flow": null,
            "grid_area": null,
            "grid_auto_columns": null,
            "grid_auto_flow": null,
            "grid_auto_rows": null,
            "grid_column": null,
            "grid_gap": null,
            "grid_row": null,
            "grid_template_areas": null,
            "grid_template_columns": null,
            "grid_template_rows": null,
            "height": null,
            "justify_content": null,
            "justify_items": null,
            "left": null,
            "margin": null,
            "max_height": null,
            "max_width": null,
            "min_height": null,
            "min_width": null,
            "object_fit": null,
            "object_position": null,
            "order": null,
            "overflow": null,
            "overflow_x": null,
            "overflow_y": null,
            "padding": null,
            "right": null,
            "top": null,
            "visibility": null,
            "width": null
          }
        },
        "636465c471344c8786daab8007f8c142": {
          "model_module": "@jupyter-widgets/controls",
          "model_name": "ProgressStyleModel",
          "model_module_version": "1.5.0",
          "state": {
            "_model_module": "@jupyter-widgets/controls",
            "_model_module_version": "1.5.0",
            "_model_name": "ProgressStyleModel",
            "_view_count": null,
            "_view_module": "@jupyter-widgets/base",
            "_view_module_version": "1.2.0",
            "_view_name": "StyleView",
            "bar_color": null,
            "description_width": ""
          }
        },
        "546314c34c9c486c9b3e274bed6706a6": {
          "model_module": "@jupyter-widgets/base",
          "model_name": "LayoutModel",
          "model_module_version": "1.2.0",
          "state": {
            "_model_module": "@jupyter-widgets/base",
            "_model_module_version": "1.2.0",
            "_model_name": "LayoutModel",
            "_view_count": null,
            "_view_module": "@jupyter-widgets/base",
            "_view_module_version": "1.2.0",
            "_view_name": "LayoutView",
            "align_content": null,
            "align_items": null,
            "align_self": null,
            "border": null,
            "bottom": null,
            "display": null,
            "flex": null,
            "flex_flow": null,
            "grid_area": null,
            "grid_auto_columns": null,
            "grid_auto_flow": null,
            "grid_auto_rows": null,
            "grid_column": null,
            "grid_gap": null,
            "grid_row": null,
            "grid_template_areas": null,
            "grid_template_columns": null,
            "grid_template_rows": null,
            "height": null,
            "justify_content": null,
            "justify_items": null,
            "left": null,
            "margin": null,
            "max_height": null,
            "max_width": null,
            "min_height": null,
            "min_width": null,
            "object_fit": null,
            "object_position": null,
            "order": null,
            "overflow": null,
            "overflow_x": null,
            "overflow_y": null,
            "padding": null,
            "right": null,
            "top": null,
            "visibility": null,
            "width": null
          }
        },
        "33504066ae8448fd8fba18616d64b71c": {
          "model_module": "@jupyter-widgets/controls",
          "model_name": "DescriptionStyleModel",
          "model_module_version": "1.5.0",
          "state": {
            "_model_module": "@jupyter-widgets/controls",
            "_model_module_version": "1.5.0",
            "_model_name": "DescriptionStyleModel",
            "_view_count": null,
            "_view_module": "@jupyter-widgets/base",
            "_view_module_version": "1.2.0",
            "_view_name": "StyleView",
            "description_width": ""
          }
        }
      }
    }
  },
  "cells": [
    {
      "cell_type": "markdown",
      "source": [
        "# **Dataset Gathering**"
      ],
      "metadata": {
        "id": "f1JQPHYMvjGA"
      }
    },
    {
      "cell_type": "code",
      "execution_count": null,
      "metadata": {
        "colab": {
          "base_uri": "https://localhost:8080/"
        },
        "id": "8vvOnCbrsuBh",
        "outputId": "1441b045-e081-4a6c-deb7-d9a48f49d9a5"
      },
      "outputs": [
        {
          "output_type": "stream",
          "name": "stdout",
          "text": [
            "Dataset URL: https://www.kaggle.com/datasets/shanegerami/ai-vs-human-text\n",
            "License(s): other\n",
            "Downloading ai-vs-human-text.zip to /content\n",
            "100% 349M/350M [00:02<00:00, 137MB/s]\n",
            "100% 350M/350M [00:02<00:00, 128MB/s]\n"
          ]
        }
      ],
      "source": [
        "import os\n",
        "from google.colab import userdata\n",
        "\n",
        "os.environ['KAGGLE_USERNAME'] = userdata.get('KAGGLE_USERNAME')\n",
        "os.environ['KAGGLE_KEY'] = userdata.get('KAGGLE_KEY')\n",
        "\n",
        "\n",
        "!kaggle datasets download -d shanegerami/ai-vs-human-text\n"
      ]
    },
    {
      "cell_type": "code",
      "source": [
        "# Unzipping the downloaded dataset\n",
        "!unzip -q ai-vs-human-text.zip -d ./ai-vs-human-text"
      ],
      "metadata": {
        "id": "dc55KVtWvIgl"
      },
      "execution_count": null,
      "outputs": []
    },
    {
      "cell_type": "code",
      "source": [
        "import pandas as pd\n",
        "\n",
        "data = pd.read_csv('/content/ai-vs-human-text/AI_Human.csv')\n",
        "print(data.head())"
      ],
      "metadata": {
        "colab": {
          "base_uri": "https://localhost:8080/"
        },
        "id": "_CRh1lWptu6c",
        "outputId": "12c75553-6fb6-443a-ba69-3706fd2cad6b"
      },
      "execution_count": null,
      "outputs": [
        {
          "output_type": "stream",
          "name": "stdout",
          "text": [
            "                                                text  generated\n",
            "0  Cars. Cars have been around since they became ...        0.0\n",
            "1  Transportation is a large necessity in most co...        0.0\n",
            "2  \"America's love affair with it's vehicles seem...        0.0\n",
            "3  How often do you ride in a car? Do you drive a...        0.0\n",
            "4  Cars are a wonderful thing. They are perhaps o...        0.0\n"
          ]
        }
      ]
    },
    {
      "cell_type": "code",
      "source": [
        "data.shape"
      ],
      "metadata": {
        "colab": {
          "base_uri": "https://localhost:8080/"
        },
        "id": "c1CyHu-EvTRC",
        "outputId": "09672137-95a6-4ff4-af13-0daf31fa031e"
      },
      "execution_count": null,
      "outputs": [
        {
          "output_type": "execute_result",
          "data": {
            "text/plain": [
              "(487235, 2)"
            ]
          },
          "metadata": {},
          "execution_count": 7
        }
      ]
    },
    {
      "cell_type": "code",
      "source": [
        "counts = data.groupby('generated').size()\n",
        "print(\"Counts:\")\n",
        "print(counts)"
      ],
      "metadata": {
        "colab": {
          "base_uri": "https://localhost:8080/"
        },
        "id": "IVufJXWewpvE",
        "outputId": "082d5c96-af11-4f93-9038-26574f3bcc97"
      },
      "execution_count": null,
      "outputs": [
        {
          "output_type": "stream",
          "name": "stdout",
          "text": [
            "Counts:\n",
            "generated\n",
            "0.0    305797\n",
            "1.0    181438\n",
            "dtype: int64\n"
          ]
        }
      ]
    },
    {
      "cell_type": "code",
      "source": [
        "data.isnull().sum()"
      ],
      "metadata": {
        "colab": {
          "base_uri": "https://localhost:8080/"
        },
        "id": "fxYG3tXQxatO",
        "outputId": "a8cb29f9-1b74-42a9-f8ed-bdc8b1e8b376"
      },
      "execution_count": null,
      "outputs": [
        {
          "output_type": "execute_result",
          "data": {
            "text/plain": [
              "text         0\n",
              "generated    0\n",
              "dtype: int64"
            ]
          },
          "metadata": {},
          "execution_count": 12
        }
      ]
    },
    {
      "cell_type": "code",
      "source": [
        "data_collected = data.rename(columns={'generated': 'label'})"
      ],
      "metadata": {
        "id": "oLFKyLeGxk4a"
      },
      "execution_count": null,
      "outputs": []
    },
    {
      "cell_type": "markdown",
      "source": [
        "# **Limiting dataset**"
      ],
      "metadata": {
        "id": "yr7m0m2D1mcz"
      }
    },
    {
      "cell_type": "code",
      "source": [
        "import pandas as pd\n",
        "\n",
        "# Assuming ds is your initial DataFrame\n",
        "# Filter the DataFrame for each category\n",
        "df_0 = data[data['generated'] == 0.0]\n",
        "df_1 = data[data['generated'] == 1.0]\n",
        "\n",
        "# Sample 10,000 rows from each DataFrame if they have at least 10,000 rows\n",
        "n_samples = 1000  # Number of samples per category\n",
        "\n",
        "if len(df_0) >= n_samples and len(df_1) >= n_samples:\n",
        "    df_0_sampled = df_0.sample(n=n_samples, random_state=42)\n",
        "    df_1_sampled = df_1.sample(n=n_samples, random_state=42)\n",
        "else:\n",
        "    raise ValueError(\"Not enough data to sample from one or both categories.\")\n",
        "\n",
        "# Combine the sampled data\n",
        "balanced_ds = pd.concat([df_0_sampled, df_1_sampled])\n",
        "\n",
        "# Shuffle the DataFrame\n",
        "balanced_ds = balanced_ds.sample(frac=1, random_state=42).reset_index(drop=True)\n",
        "\n",
        "# Now balanced_ds is ready for use\n",
        "print(balanced_ds.head())\n",
        "print(\"Distribution of 'generated':\", balanced_ds['generated'].value_counts())\n"
      ],
      "metadata": {
        "colab": {
          "base_uri": "https://localhost:8080/"
        },
        "id": "TnsWfCFK1plC",
        "outputId": "ca5fcfed-2984-4069-da73-5c7cab09227d"
      },
      "execution_count": null,
      "outputs": [
        {
          "output_type": "stream",
          "name": "stdout",
          "text": [
            "                                                text  generated\n",
            "0  Hey there! \\n\\nSo, you know how people say \"ki...        1.0\n",
            "1  As a child I can remember the many times my te...        0.0\n",
            "2  While distance learning offers convenience and...        1.0\n",
            "3  Dear Principal,\\n\\nI do not think that you sho...        0.0\n",
            "4   I agree with the prompt that change is possib...        1.0\n",
            "Distribution of 'generated': generated\n",
            "1.0    1000\n",
            "0.0    1000\n",
            "Name: count, dtype: int64\n"
          ]
        }
      ]
    },
    {
      "cell_type": "markdown",
      "source": [
        "# **Data Preprocessing**"
      ],
      "metadata": {
        "id": "DWp94rqCvooR"
      }
    },
    {
      "cell_type": "markdown",
      "source": [
        "### **Tokenization**"
      ],
      "metadata": {
        "id": "Yfv3vDpOwC-I"
      }
    },
    {
      "cell_type": "markdown",
      "source": [
        "**NLTK tokenize**"
      ],
      "metadata": {
        "id": "OzvhPFWZyiDe"
      }
    },
    {
      "cell_type": "code",
      "source": [
        "!pip -q install nltk\n",
        "import nltk\n",
        "nltk.download('punkt')"
      ],
      "metadata": {
        "colab": {
          "base_uri": "https://localhost:8080/"
        },
        "id": "9yimP_ATzNiq",
        "outputId": "de4edbf1-665b-45f4-b5ca-1c11c6a5a798"
      },
      "execution_count": null,
      "outputs": [
        {
          "output_type": "stream",
          "name": "stderr",
          "text": [
            "[nltk_data] Downloading package punkt to /root/nltk_data...\n",
            "[nltk_data]   Unzipping tokenizers/punkt.zip.\n"
          ]
        },
        {
          "output_type": "execute_result",
          "data": {
            "text/plain": [
              "True"
            ]
          },
          "metadata": {},
          "execution_count": 18
        }
      ]
    },
    {
      "cell_type": "code",
      "source": [],
      "metadata": {
        "id": "3FSC17ckvecB"
      },
      "execution_count": null,
      "outputs": []
    },
    {
      "cell_type": "code",
      "source": [],
      "metadata": {
        "colab": {
          "base_uri": "https://localhost:8080/",
          "height": 206
        },
        "id": "EqH5ohOM3opT",
        "outputId": "dc897194-a52d-44a7-cbbb-65ebc73b1493"
      },
      "execution_count": null,
      "outputs": [
        {
          "output_type": "execute_result",
          "data": {
            "text/plain": [
              "                                                text  generated  \\\n",
              "0  Is important for young people to attend.\\n\\nGr...        1.0   \n",
              "1  As the world beys moved into a technological e...        0.0   \n",
              "2  Dear, senator I hereby to inform you that I'm ...        0.0   \n",
              "3  As a student Myself, I think students would be...        0.0   \n",
              "4   Dear Principal,\\n\\nI understand your concern ...        1.0   \n",
              "\n",
              "                                              tokens  \n",
              "0  [Is important for young people to attend., Gra...  \n",
              "1  [As the world beys moved into a technological ...  \n",
              "2  [Dear, senator I hereby to inform you that I'm...  \n",
              "3  [As a student Myself, I think students would b...  \n",
              "4  [ Dear Principal,\\n\\nI understand your concern...  "
            ],
            "text/html": [
              "\n",
              "  <div id=\"df-d9e73747-b354-4d3c-a5b2-ec4d53006268\" class=\"colab-df-container\">\n",
              "    <div>\n",
              "<style scoped>\n",
              "    .dataframe tbody tr th:only-of-type {\n",
              "        vertical-align: middle;\n",
              "    }\n",
              "\n",
              "    .dataframe tbody tr th {\n",
              "        vertical-align: top;\n",
              "    }\n",
              "\n",
              "    .dataframe thead th {\n",
              "        text-align: right;\n",
              "    }\n",
              "</style>\n",
              "<table border=\"1\" class=\"dataframe\">\n",
              "  <thead>\n",
              "    <tr style=\"text-align: right;\">\n",
              "      <th></th>\n",
              "      <th>text</th>\n",
              "      <th>generated</th>\n",
              "      <th>tokens</th>\n",
              "    </tr>\n",
              "  </thead>\n",
              "  <tbody>\n",
              "    <tr>\n",
              "      <th>0</th>\n",
              "      <td>Is important for young people to attend.\\n\\nGr...</td>\n",
              "      <td>1.0</td>\n",
              "      <td>[Is important for young people to attend., Gra...</td>\n",
              "    </tr>\n",
              "    <tr>\n",
              "      <th>1</th>\n",
              "      <td>As the world beys moved into a technological e...</td>\n",
              "      <td>0.0</td>\n",
              "      <td>[As the world beys moved into a technological ...</td>\n",
              "    </tr>\n",
              "    <tr>\n",
              "      <th>2</th>\n",
              "      <td>Dear, senator I hereby to inform you that I'm ...</td>\n",
              "      <td>0.0</td>\n",
              "      <td>[Dear, senator I hereby to inform you that I'm...</td>\n",
              "    </tr>\n",
              "    <tr>\n",
              "      <th>3</th>\n",
              "      <td>As a student Myself, I think students would be...</td>\n",
              "      <td>0.0</td>\n",
              "      <td>[As a student Myself, I think students would b...</td>\n",
              "    </tr>\n",
              "    <tr>\n",
              "      <th>4</th>\n",
              "      <td>Dear Principal,\\n\\nI understand your concern ...</td>\n",
              "      <td>1.0</td>\n",
              "      <td>[ Dear Principal,\\n\\nI understand your concern...</td>\n",
              "    </tr>\n",
              "  </tbody>\n",
              "</table>\n",
              "</div>\n",
              "    <div class=\"colab-df-buttons\">\n",
              "\n",
              "  <div class=\"colab-df-container\">\n",
              "    <button class=\"colab-df-convert\" onclick=\"convertToInteractive('df-d9e73747-b354-4d3c-a5b2-ec4d53006268')\"\n",
              "            title=\"Convert this dataframe to an interactive table.\"\n",
              "            style=\"display:none;\">\n",
              "\n",
              "  <svg xmlns=\"http://www.w3.org/2000/svg\" height=\"24px\" viewBox=\"0 -960 960 960\">\n",
              "    <path d=\"M120-120v-720h720v720H120Zm60-500h600v-160H180v160Zm220 220h160v-160H400v160Zm0 220h160v-160H400v160ZM180-400h160v-160H180v160Zm440 0h160v-160H620v160ZM180-180h160v-160H180v160Zm440 0h160v-160H620v160Z\"/>\n",
              "  </svg>\n",
              "    </button>\n",
              "\n",
              "  <style>\n",
              "    .colab-df-container {\n",
              "      display:flex;\n",
              "      gap: 12px;\n",
              "    }\n",
              "\n",
              "    .colab-df-convert {\n",
              "      background-color: #E8F0FE;\n",
              "      border: none;\n",
              "      border-radius: 50%;\n",
              "      cursor: pointer;\n",
              "      display: none;\n",
              "      fill: #1967D2;\n",
              "      height: 32px;\n",
              "      padding: 0 0 0 0;\n",
              "      width: 32px;\n",
              "    }\n",
              "\n",
              "    .colab-df-convert:hover {\n",
              "      background-color: #E2EBFA;\n",
              "      box-shadow: 0px 1px 2px rgba(60, 64, 67, 0.3), 0px 1px 3px 1px rgba(60, 64, 67, 0.15);\n",
              "      fill: #174EA6;\n",
              "    }\n",
              "\n",
              "    .colab-df-buttons div {\n",
              "      margin-bottom: 4px;\n",
              "    }\n",
              "\n",
              "    [theme=dark] .colab-df-convert {\n",
              "      background-color: #3B4455;\n",
              "      fill: #D2E3FC;\n",
              "    }\n",
              "\n",
              "    [theme=dark] .colab-df-convert:hover {\n",
              "      background-color: #434B5C;\n",
              "      box-shadow: 0px 1px 3px 1px rgba(0, 0, 0, 0.15);\n",
              "      filter: drop-shadow(0px 1px 2px rgba(0, 0, 0, 0.3));\n",
              "      fill: #FFFFFF;\n",
              "    }\n",
              "  </style>\n",
              "\n",
              "    <script>\n",
              "      const buttonEl =\n",
              "        document.querySelector('#df-d9e73747-b354-4d3c-a5b2-ec4d53006268 button.colab-df-convert');\n",
              "      buttonEl.style.display =\n",
              "        google.colab.kernel.accessAllowed ? 'block' : 'none';\n",
              "\n",
              "      async function convertToInteractive(key) {\n",
              "        const element = document.querySelector('#df-d9e73747-b354-4d3c-a5b2-ec4d53006268');\n",
              "        const dataTable =\n",
              "          await google.colab.kernel.invokeFunction('convertToInteractive',\n",
              "                                                    [key], {});\n",
              "        if (!dataTable) return;\n",
              "\n",
              "        const docLinkHtml = 'Like what you see? Visit the ' +\n",
              "          '<a target=\"_blank\" href=https://colab.research.google.com/notebooks/data_table.ipynb>data table notebook</a>'\n",
              "          + ' to learn more about interactive tables.';\n",
              "        element.innerHTML = '';\n",
              "        dataTable['output_type'] = 'display_data';\n",
              "        await google.colab.output.renderOutput(dataTable, element);\n",
              "        const docLink = document.createElement('div');\n",
              "        docLink.innerHTML = docLinkHtml;\n",
              "        element.appendChild(docLink);\n",
              "      }\n",
              "    </script>\n",
              "  </div>\n",
              "\n",
              "\n",
              "<div id=\"df-1c35a394-88d0-4c6c-a883-7cbe9a365901\">\n",
              "  <button class=\"colab-df-quickchart\" onclick=\"quickchart('df-1c35a394-88d0-4c6c-a883-7cbe9a365901')\"\n",
              "            title=\"Suggest charts\"\n",
              "            style=\"display:none;\">\n",
              "\n",
              "<svg xmlns=\"http://www.w3.org/2000/svg\" height=\"24px\"viewBox=\"0 0 24 24\"\n",
              "     width=\"24px\">\n",
              "    <g>\n",
              "        <path d=\"M19 3H5c-1.1 0-2 .9-2 2v14c0 1.1.9 2 2 2h14c1.1 0 2-.9 2-2V5c0-1.1-.9-2-2-2zM9 17H7v-7h2v7zm4 0h-2V7h2v10zm4 0h-2v-4h2v4z\"/>\n",
              "    </g>\n",
              "</svg>\n",
              "  </button>\n",
              "\n",
              "<style>\n",
              "  .colab-df-quickchart {\n",
              "      --bg-color: #E8F0FE;\n",
              "      --fill-color: #1967D2;\n",
              "      --hover-bg-color: #E2EBFA;\n",
              "      --hover-fill-color: #174EA6;\n",
              "      --disabled-fill-color: #AAA;\n",
              "      --disabled-bg-color: #DDD;\n",
              "  }\n",
              "\n",
              "  [theme=dark] .colab-df-quickchart {\n",
              "      --bg-color: #3B4455;\n",
              "      --fill-color: #D2E3FC;\n",
              "      --hover-bg-color: #434B5C;\n",
              "      --hover-fill-color: #FFFFFF;\n",
              "      --disabled-bg-color: #3B4455;\n",
              "      --disabled-fill-color: #666;\n",
              "  }\n",
              "\n",
              "  .colab-df-quickchart {\n",
              "    background-color: var(--bg-color);\n",
              "    border: none;\n",
              "    border-radius: 50%;\n",
              "    cursor: pointer;\n",
              "    display: none;\n",
              "    fill: var(--fill-color);\n",
              "    height: 32px;\n",
              "    padding: 0;\n",
              "    width: 32px;\n",
              "  }\n",
              "\n",
              "  .colab-df-quickchart:hover {\n",
              "    background-color: var(--hover-bg-color);\n",
              "    box-shadow: 0 1px 2px rgba(60, 64, 67, 0.3), 0 1px 3px 1px rgba(60, 64, 67, 0.15);\n",
              "    fill: var(--button-hover-fill-color);\n",
              "  }\n",
              "\n",
              "  .colab-df-quickchart-complete:disabled,\n",
              "  .colab-df-quickchart-complete:disabled:hover {\n",
              "    background-color: var(--disabled-bg-color);\n",
              "    fill: var(--disabled-fill-color);\n",
              "    box-shadow: none;\n",
              "  }\n",
              "\n",
              "  .colab-df-spinner {\n",
              "    border: 2px solid var(--fill-color);\n",
              "    border-color: transparent;\n",
              "    border-bottom-color: var(--fill-color);\n",
              "    animation:\n",
              "      spin 1s steps(1) infinite;\n",
              "  }\n",
              "\n",
              "  @keyframes spin {\n",
              "    0% {\n",
              "      border-color: transparent;\n",
              "      border-bottom-color: var(--fill-color);\n",
              "      border-left-color: var(--fill-color);\n",
              "    }\n",
              "    20% {\n",
              "      border-color: transparent;\n",
              "      border-left-color: var(--fill-color);\n",
              "      border-top-color: var(--fill-color);\n",
              "    }\n",
              "    30% {\n",
              "      border-color: transparent;\n",
              "      border-left-color: var(--fill-color);\n",
              "      border-top-color: var(--fill-color);\n",
              "      border-right-color: var(--fill-color);\n",
              "    }\n",
              "    40% {\n",
              "      border-color: transparent;\n",
              "      border-right-color: var(--fill-color);\n",
              "      border-top-color: var(--fill-color);\n",
              "    }\n",
              "    60% {\n",
              "      border-color: transparent;\n",
              "      border-right-color: var(--fill-color);\n",
              "    }\n",
              "    80% {\n",
              "      border-color: transparent;\n",
              "      border-right-color: var(--fill-color);\n",
              "      border-bottom-color: var(--fill-color);\n",
              "    }\n",
              "    90% {\n",
              "      border-color: transparent;\n",
              "      border-bottom-color: var(--fill-color);\n",
              "    }\n",
              "  }\n",
              "</style>\n",
              "\n",
              "  <script>\n",
              "    async function quickchart(key) {\n",
              "      const quickchartButtonEl =\n",
              "        document.querySelector('#' + key + ' button');\n",
              "      quickchartButtonEl.disabled = true;  // To prevent multiple clicks.\n",
              "      quickchartButtonEl.classList.add('colab-df-spinner');\n",
              "      try {\n",
              "        const charts = await google.colab.kernel.invokeFunction(\n",
              "            'suggestCharts', [key], {});\n",
              "      } catch (error) {\n",
              "        console.error('Error during call to suggestCharts:', error);\n",
              "      }\n",
              "      quickchartButtonEl.classList.remove('colab-df-spinner');\n",
              "      quickchartButtonEl.classList.add('colab-df-quickchart-complete');\n",
              "    }\n",
              "    (() => {\n",
              "      let quickchartButtonEl =\n",
              "        document.querySelector('#df-1c35a394-88d0-4c6c-a883-7cbe9a365901 button');\n",
              "      quickchartButtonEl.style.display =\n",
              "        google.colab.kernel.accessAllowed ? 'block' : 'none';\n",
              "    })();\n",
              "  </script>\n",
              "</div>\n",
              "\n",
              "    </div>\n",
              "  </div>\n"
            ],
            "application/vnd.google.colaboratory.intrinsic+json": {
              "type": "dataframe",
              "variable_name": "balanced_ds",
              "summary": "{\n  \"name\": \"balanced_ds\",\n  \"rows\": 20000,\n  \"fields\": [\n    {\n      \"column\": \"text\",\n      \"properties\": {\n        \"dtype\": \"string\",\n        \"num_unique_values\": 20000,\n        \"samples\": [\n          \"I think that Se should change to election by popular vote for the President of the United States. If Se keeps the Electoral College, then even if you do earn the most individual votes, you might not be elected president. If you have earned the most individual votes then you should be elected president because you have the majority vote. If Se keeps the electoral College then if you are elected president but do not receive the majority of the individual votes, the president elected by the Electoral College Still not be a popular president to the people Who voted against them.\\n\\nSource 2 says, \\\"Consider that state legislatures are technically responsible for picking electors, and that those electors could always defy the Sill of the people.\\\" So Sith the Electoral College, the electors that are chosen might not elect those Shot hey said they Would. But Sith election by popular vote, the person elected Sill always be Who the majority of the country Santa as president.\\n\\nSource 1 states, \\\"Your state's entitled allotment of electors equals the number of members in its Congressional delegation: one for each member in the House of Representatives plus TSO for your Senators.\\\" So some states have more votes than others. If someone Who is running get more states to vote for them, it does not mean that they Still be elected because they have to get more votes overall from the electors.\\n\\nSource 3 says, \\\"The advocates of this position are correct in arguing that the Electoral College method is not democratic in a modern sense...it is the electors Who elect the president, not the people.\\\" So Sith the Electoral College, even though the people vote, they are not the ones Who are electing the president. Source 3 also says, When you vote for a presidential candidate you're actually voting for a slate of electors.\\\" So Whoever you are voting for, you don't know if the slate of electors Still votes in that direction.\",\n          \"The article \\\"The Challenge of Exploring Venus\\\" effectively convinces readers that exploring Venus is beneficial, despite its dangerous environment. The author presents a balanced view by discussing both the challenges and opportunities of exploring Venus, ultimately persuading readers to support the study of our planetary neighbor.\\n\\nThe author successfully promotes the exploration of Venus by highlighting its potential scientific breakthroughs and allure. The vivid imagery used to describe Venus's hostile environment, such as the comparison of its atmosphere to the deepest oceans on Earth, grabs the reader's attention and emphasizes the importance of overcoming these challenges. The author also mentions the planet's similarity to Earth in the past, stirring curiosity and imagination. The blimp-like vehicle concept proposed by NASA is presented as a feasible solution to study Venus safely, further reinforcing the idea that exploration is worthwhile.\\n\\nThe article presents several compelling pieces of evidence to support the value of exploring Venus. The author notes that Venus is a hotbed of natural disasters, which could provide valuable insights into Earth's own geological history. Additionally, studying Venus's atmosphere could help us better understand climate change and its effects on our planet. The author also highlights the potential for technological advancements that could arise from the challenges of exploring Venus, such as the development of more sophisticated landers and rovers.\\n\\nThe structure of the article is well-organized, with a clear introduction, body, and conclusion. The author begins by introducing the challenges of exploring Venus, then transitions to discussing the opportunities and potential benefits. The conclusion effectively summarizes the main points and reiterates the importance of exploring Venus.\\n\\nIn conclusion, the author of \\\"The Challenge of Exploring Venus\\\" successfully convinces readers that exploring Venus is beneficial, despite its risks. The article presents a balanced view, highlighting both the challenges and opportunities of exploring our planetary neighbor. The author's use of vivid imagery, scientific evidence, and technological advancements supports the idea that studying Venus is worthwhile. The article's structure is well-organized, making it easy for readers to follow and understand the author's arguments. Ultimately, the article effectively promotes the exploration of Venus and encourages readers to support this important scientific endeavor.\",\n          \"Throughout the years, in fact between the years 2002-2014, numerous newspapers and reporters have reported that having the lack of cars can actually benefit the earth and its population. Also, they say, there are advantages to them. But what exactly are these advantages that could prosper so many car loving fans? Well, there are actually 2 advantages of people would love to have:1, People are much happier and 2, the stress that afflicts many today are gone and also parks are blooming throughout one city because of the lack of the automobiles. So let's consider these wonderful advantages of not having any car.\\n\\nFirst, People are much happier without cars than they are with cars.\\u00a0 According to the New York Times, one mother who is a media trainer and the mother of two reports as to saying: \\\"I'm much happier this way.\\\" Her Name is Hadron Walter, and she lives in an area of Germany called Vauban. Vauban is a city where 'street parking, driveways and home garages are generally forbidden.' If to enjoy this kind of happiness in a world full of grim people, who wouldn't want to take up not driving a car?\\n\\nSecond, The stress that people have today are gone and at one city parks are blooming. According to the news reporter Andrew Silky, from The Seattle Times, he writes these words spoken by one businessman in Bogot\\u00e1, Colombia: \\\"It's a good opportunity to take away stress.\\\" Mr. Silky also writes this about the parks blooming throughout the city of Bogot\\u00e1:\\\"Parks and sports centers also have bloomed throughout the city.\\\" The Advantages of not driving a car are pretty great.\\n\\nIn conclusion, the advantages of not having a car to drive are very numerous. Another reason for not having to drive a car is that of pollution. And the list could go on. So as has been shown, People are happier and stress-free without having to drive cars. So may you ever be happier if you don't have to drive cars.  \"\n        ],\n        \"semantic_type\": \"\",\n        \"description\": \"\"\n      }\n    },\n    {\n      \"column\": \"generated\",\n      \"properties\": {\n        \"dtype\": \"number\",\n        \"std\": 0.5000125004687695,\n        \"min\": 0.0,\n        \"max\": 1.0,\n        \"num_unique_values\": 2,\n        \"samples\": [\n          0.0,\n          1.0\n        ],\n        \"semantic_type\": \"\",\n        \"description\": \"\"\n      }\n    },\n    {\n      \"column\": \"tokens\",\n      \"properties\": {\n        \"dtype\": \"object\",\n        \"semantic_type\": \"\",\n        \"description\": \"\"\n      }\n    }\n  ]\n}"
            }
          },
          "metadata": {},
          "execution_count": 30
        }
      ]
    },
    {
      "cell_type": "markdown",
      "source": [
        "**Spacy tokenize**"
      ],
      "metadata": {
        "id": "B-TNBQysyy8U"
      }
    },
    {
      "cell_type": "code",
      "source": [
        "import spacy\n",
        "\n",
        "# Load the English NLP model\n",
        "nlp = spacy.load(\"en_core_web_sm\")\n",
        "\n",
        "text = \"Hello there! How are you doing today?\"\n",
        "doc = nlp(text)\n",
        "\n",
        "# Sentence Tokenization\n",
        "sentences = [sent.text for sent in doc.sents]\n",
        "print(\"Sentence Tokens:\", sentences)"
      ],
      "metadata": {
        "colab": {
          "base_uri": "https://localhost:8080/"
        },
        "id": "F-Xmyt27ypGo",
        "outputId": "50377c0a-5664-441b-9694-1aed90fc8bd0"
      },
      "execution_count": null,
      "outputs": [
        {
          "output_type": "stream",
          "name": "stdout",
          "text": [
            "Sentence Tokens: ['Hello there!', 'How are you doing today?']\n"
          ]
        }
      ]
    },
    {
      "cell_type": "code",
      "source": [
        "from transformers import BertTokenizer\n",
        "\n",
        "# Load a pre-trained BERT tokenizer\n",
        "tokenizer = BertTokenizer.from_pretrained('bert-base-uncased')\n",
        "\n",
        "text = \"Hello there! How are you doing today?\"\n",
        "encoded_input = tokenizer(text)\n",
        "\n",
        "# Tokens and token IDs\n",
        "tokens = tokenizer.convert_ids_to_tokens(encoded_input['input_ids'])\n",
        "print(\"Subword Tokens:\", tokens)"
      ],
      "metadata": {
        "colab": {
          "base_uri": "https://localhost:8080/",
          "height": 217,
          "referenced_widgets": [
            "41259f25ffc149e0a1ba4da3fdf560aa",
            "9cdd1b3e60014fb6902898f78ab8a44e",
            "5ce2a2f012b141cab200fe7c49123f5e",
            "2401dd5664d8407da8def3bc568d5dc1",
            "11dbb8710eb64a2b95a8bd4ae1e40ddd",
            "2101d867ab304515bab5d821a3cb129e",
            "f955fd80f81e4367bd57f662fcf6356c",
            "9899baa990f8414d941a51f70b606603",
            "ef4f13afe0c5436a9d34ea8ba2402820",
            "1c0364533d0d4d3994497076c538df39",
            "9a3ebac8885d4fb58b3662b760ff1c93",
            "0b0ef51a36ff47bfb9f4f4471abd0b3b",
            "58e0381557fc4341af3b113b27aaa58d",
            "adf2158928a24201a8707be7ab748986",
            "9d0ae1d2c0074d6a98aa564c85655701",
            "07771043c6a942c59fd7ab51853f12c4",
            "f1cd1bf3991b4448ae8ab75bedcf5498",
            "d991ee1973a24de0bc26b1e570e1ec73",
            "8c72921dc005434587937dfcb6f7c495",
            "20485e6d9cdb4447b23acd5e49abd2da",
            "c2c5588e9764490680d4e5ea542b9035",
            "9da39477c3d841d98eddbce5ec24ddfa",
            "5c4ef7fe70404e70867de53605915fa9",
            "99659c3f898c4d119e2d80b3e6a5b1c9",
            "fe2739b3c9444935899876bb12ca7c0a",
            "343776ae00e048239e8ecce9bde9624e",
            "99104aaf7de94937944e17197b18b0bd",
            "33cbccd36e864746813eea670ecb5de0",
            "7b1706279aa54e81b581e2e6e2fe9f93",
            "6d3695ccf79e4988979b2761546b90da",
            "6fbf66f7316c4ba3a340215f4e431786",
            "768fd72dd8904904a70e3292302f1b26",
            "9d8b489cbfd4436bbbc9e067b46539ad",
            "54bdc11b099d492b93e9ae6855b1680e",
            "3e69ee894cf2441bbfcd3d9ec331456e",
            "ce6df212e1404ef891d296d6bde2268c",
            "ca1c52bb479e4cefa9a920625a68fe17",
            "391a5bfc03ae4736998ec72d81b3dccb",
            "d78393ba532f4f15b1fe85e0490015c8",
            "ca5dba14abf54e6e924798522b46c400",
            "b0b05e770afb43a0a675fc55ded1ed19",
            "636465c471344c8786daab8007f8c142",
            "546314c34c9c486c9b3e274bed6706a6",
            "33504066ae8448fd8fba18616d64b71c"
          ]
        },
        "id": "n9Bb_XbRzEhX",
        "outputId": "a1c74943-b967-4241-8931-c102384a35d8"
      },
      "execution_count": null,
      "outputs": [
        {
          "output_type": "display_data",
          "data": {
            "text/plain": [
              "tokenizer_config.json:   0%|          | 0.00/48.0 [00:00<?, ?B/s]"
            ],
            "application/vnd.jupyter.widget-view+json": {
              "version_major": 2,
              "version_minor": 0,
              "model_id": "41259f25ffc149e0a1ba4da3fdf560aa"
            }
          },
          "metadata": {}
        },
        {
          "output_type": "display_data",
          "data": {
            "text/plain": [
              "vocab.txt:   0%|          | 0.00/232k [00:00<?, ?B/s]"
            ],
            "application/vnd.jupyter.widget-view+json": {
              "version_major": 2,
              "version_minor": 0,
              "model_id": "0b0ef51a36ff47bfb9f4f4471abd0b3b"
            }
          },
          "metadata": {}
        },
        {
          "output_type": "display_data",
          "data": {
            "text/plain": [
              "tokenizer.json:   0%|          | 0.00/466k [00:00<?, ?B/s]"
            ],
            "application/vnd.jupyter.widget-view+json": {
              "version_major": 2,
              "version_minor": 0,
              "model_id": "5c4ef7fe70404e70867de53605915fa9"
            }
          },
          "metadata": {}
        },
        {
          "output_type": "stream",
          "name": "stderr",
          "text": [
            "/usr/local/lib/python3.10/dist-packages/huggingface_hub/file_download.py:1132: FutureWarning: `resume_download` is deprecated and will be removed in version 1.0.0. Downloads always resume when possible. If you want to force a new download, use `force_download=True`.\n",
            "  warnings.warn(\n"
          ]
        },
        {
          "output_type": "display_data",
          "data": {
            "text/plain": [
              "config.json:   0%|          | 0.00/570 [00:00<?, ?B/s]"
            ],
            "application/vnd.jupyter.widget-view+json": {
              "version_major": 2,
              "version_minor": 0,
              "model_id": "54bdc11b099d492b93e9ae6855b1680e"
            }
          },
          "metadata": {}
        },
        {
          "output_type": "stream",
          "name": "stdout",
          "text": [
            "Subword Tokens: ['[CLS]', 'hello', 'there', '!', 'how', 'are', 'you', 'doing', 'today', '?', '[SEP]']\n"
          ]
        }
      ]
    },
    {
      "cell_type": "markdown",
      "source": [
        "### **Lowercasing**"
      ],
      "metadata": {
        "id": "8FFsE34vwFuX"
      }
    },
    {
      "cell_type": "code",
      "source": [
        "balanced_ds['text'] = balanced_ds['text'].str.lower()\n",
        "balanced_ds['text'].head()"
      ],
      "metadata": {
        "colab": {
          "base_uri": "https://localhost:8080/"
        },
        "id": "H9Ab3oauwI6Y",
        "outputId": "32980f1f-f7da-4cec-8312-b35f6a02b454"
      },
      "execution_count": null,
      "outputs": [
        {
          "output_type": "execute_result",
          "data": {
            "text/plain": [
              "0    is important for young people to attend.\\n\\ngr...\n",
              "1    as the world beys moved into a technological e...\n",
              "2    dear, senator i hereby to inform you that i'm ...\n",
              "3    as a student myself, i think students would be...\n",
              "4     dear principal,\\n\\ni understand your concern ...\n",
              "Name: text, dtype: object"
            ]
          },
          "metadata": {},
          "execution_count": 33
        }
      ]
    },
    {
      "cell_type": "markdown",
      "source": [
        "### **Removing Punctuation and Special Characters**"
      ],
      "metadata": {
        "id": "3sGGUDOQwKEa"
      }
    },
    {
      "cell_type": "code",
      "source": [
        "import re\n",
        "\n",
        "def remove_punctuation(text):\n",
        "    # Replace all non-alphanumeric characters with an empty string\n",
        "    return re.sub(r'[^\\w\\s]', '', text) if type(text) == str else text\n",
        "\n",
        "balanced_ds['text'] = balanced_ds['text'].apply(remove_punctuation)"
      ],
      "metadata": {
        "id": "o4sIr99hwJf_"
      },
      "execution_count": null,
      "outputs": []
    },
    {
      "cell_type": "markdown",
      "source": [
        "### **Removing Stop Words**"
      ],
      "metadata": {
        "id": "9crt8owNwPVq"
      }
    },
    {
      "cell_type": "code",
      "source": [
        "from nltk.corpus import stopwords\n",
        "\n",
        "# Download the stopwords from NLTK\n",
        "nltk.download('stopwords')\n",
        "\n",
        "# Load stop words\n",
        "stop_words = set(stopwords.words('english'))\n",
        "\n",
        "\n",
        "def remove_stopwords(text):\n",
        "    # Ensure text is a string\n",
        "    if isinstance(text, str):\n",
        "        # Tokenize the text into words\n",
        "        words = text.split()\n",
        "        # Remove stop words\n",
        "        filtered_words = [word for word in words if word.lower() not in stop_words]\n",
        "        # Join words back into a single string\n",
        "        return \" \".join(filtered_words)\n",
        "    return text\n",
        "\n",
        "\n",
        "balanced_ds['text'] = balanced_ds['text'].apply(remove_stopwords)"
      ],
      "metadata": {
        "colab": {
          "base_uri": "https://localhost:8080/"
        },
        "id": "3UmW6jBDwO8M",
        "outputId": "c3ac3c27-7b55-440a-ba34-7c6304a61294"
      },
      "execution_count": null,
      "outputs": [
        {
          "output_type": "stream",
          "name": "stderr",
          "text": [
            "[nltk_data] Downloading package stopwords to /root/nltk_data...\n",
            "[nltk_data]   Package stopwords is already up-to-date!\n"
          ]
        }
      ]
    },
    {
      "cell_type": "code",
      "source": [
        "print(balanced_ds['text'].head())"
      ],
      "metadata": {
        "colab": {
          "base_uri": "https://localhost:8080/"
        },
        "id": "S1JTCSGu3eRA",
        "outputId": "81bac078-6ee7-4ff8-e36e-ba6bf6929c07"
      },
      "execution_count": null,
      "outputs": [
        {
          "output_type": "stream",
          "name": "stdout",
          "text": [
            "0    important young people attend graduating early...\n",
            "1    world beys moved technological era multitude o...\n",
            "2    dear senator hereby inform im favor changing e...\n",
            "3    student think students would benefit attending...\n",
            "4    dear principal understand concern new school p...\n",
            "Name: text, dtype: object\n"
          ]
        }
      ]
    },
    {
      "cell_type": "code",
      "source": [
        "from nltk.tokenize import sent_tokenize\n",
        "\n",
        "#data_collected['tokens'] = data_collected['text'].apply(sent_tokenize)\n",
        "balanced_ds['tokens'] = balanced_ds['text'].apply(sent_tokenize)\n",
        "balanced_ds.head()"
      ],
      "metadata": {
        "colab": {
          "base_uri": "https://localhost:8080/",
          "height": 206
        },
        "id": "GUQBVgDc4WAH",
        "outputId": "fab82208-31ce-4307-ca6f-b59a4c1a667c"
      },
      "execution_count": null,
      "outputs": [
        {
          "output_type": "execute_result",
          "data": {
            "text/plain": [
              "                                                text  generated  \\\n",
              "0  important young people attend graduating early...        1.0   \n",
              "1  world beys moved technological era multitude o...        0.0   \n",
              "2  dear senator hereby inform im favor changing e...        0.0   \n",
              "3  student think students would benefit attending...        0.0   \n",
              "4  dear principal understand concern new school p...        1.0   \n",
              "\n",
              "                                              tokens  \n",
              "0  [important young people attend graduating earl...  \n",
              "1  [world beys moved technological era multitude ...  \n",
              "2  [dear senator hereby inform im favor changing ...  \n",
              "3  [student think students would benefit attendin...  \n",
              "4  [dear principal understand concern new school ...  "
            ],
            "text/html": [
              "\n",
              "  <div id=\"df-509553b7-ebc0-46b8-8008-99e708fc4b1a\" class=\"colab-df-container\">\n",
              "    <div>\n",
              "<style scoped>\n",
              "    .dataframe tbody tr th:only-of-type {\n",
              "        vertical-align: middle;\n",
              "    }\n",
              "\n",
              "    .dataframe tbody tr th {\n",
              "        vertical-align: top;\n",
              "    }\n",
              "\n",
              "    .dataframe thead th {\n",
              "        text-align: right;\n",
              "    }\n",
              "</style>\n",
              "<table border=\"1\" class=\"dataframe\">\n",
              "  <thead>\n",
              "    <tr style=\"text-align: right;\">\n",
              "      <th></th>\n",
              "      <th>text</th>\n",
              "      <th>generated</th>\n",
              "      <th>tokens</th>\n",
              "    </tr>\n",
              "  </thead>\n",
              "  <tbody>\n",
              "    <tr>\n",
              "      <th>0</th>\n",
              "      <td>important young people attend graduating early...</td>\n",
              "      <td>1.0</td>\n",
              "      <td>[important young people attend graduating earl...</td>\n",
              "    </tr>\n",
              "    <tr>\n",
              "      <th>1</th>\n",
              "      <td>world beys moved technological era multitude o...</td>\n",
              "      <td>0.0</td>\n",
              "      <td>[world beys moved technological era multitude ...</td>\n",
              "    </tr>\n",
              "    <tr>\n",
              "      <th>2</th>\n",
              "      <td>dear senator hereby inform im favor changing e...</td>\n",
              "      <td>0.0</td>\n",
              "      <td>[dear senator hereby inform im favor changing ...</td>\n",
              "    </tr>\n",
              "    <tr>\n",
              "      <th>3</th>\n",
              "      <td>student think students would benefit attending...</td>\n",
              "      <td>0.0</td>\n",
              "      <td>[student think students would benefit attendin...</td>\n",
              "    </tr>\n",
              "    <tr>\n",
              "      <th>4</th>\n",
              "      <td>dear principal understand concern new school p...</td>\n",
              "      <td>1.0</td>\n",
              "      <td>[dear principal understand concern new school ...</td>\n",
              "    </tr>\n",
              "  </tbody>\n",
              "</table>\n",
              "</div>\n",
              "    <div class=\"colab-df-buttons\">\n",
              "\n",
              "  <div class=\"colab-df-container\">\n",
              "    <button class=\"colab-df-convert\" onclick=\"convertToInteractive('df-509553b7-ebc0-46b8-8008-99e708fc4b1a')\"\n",
              "            title=\"Convert this dataframe to an interactive table.\"\n",
              "            style=\"display:none;\">\n",
              "\n",
              "  <svg xmlns=\"http://www.w3.org/2000/svg\" height=\"24px\" viewBox=\"0 -960 960 960\">\n",
              "    <path d=\"M120-120v-720h720v720H120Zm60-500h600v-160H180v160Zm220 220h160v-160H400v160Zm0 220h160v-160H400v160ZM180-400h160v-160H180v160Zm440 0h160v-160H620v160ZM180-180h160v-160H180v160Zm440 0h160v-160H620v160Z\"/>\n",
              "  </svg>\n",
              "    </button>\n",
              "\n",
              "  <style>\n",
              "    .colab-df-container {\n",
              "      display:flex;\n",
              "      gap: 12px;\n",
              "    }\n",
              "\n",
              "    .colab-df-convert {\n",
              "      background-color: #E8F0FE;\n",
              "      border: none;\n",
              "      border-radius: 50%;\n",
              "      cursor: pointer;\n",
              "      display: none;\n",
              "      fill: #1967D2;\n",
              "      height: 32px;\n",
              "      padding: 0 0 0 0;\n",
              "      width: 32px;\n",
              "    }\n",
              "\n",
              "    .colab-df-convert:hover {\n",
              "      background-color: #E2EBFA;\n",
              "      box-shadow: 0px 1px 2px rgba(60, 64, 67, 0.3), 0px 1px 3px 1px rgba(60, 64, 67, 0.15);\n",
              "      fill: #174EA6;\n",
              "    }\n",
              "\n",
              "    .colab-df-buttons div {\n",
              "      margin-bottom: 4px;\n",
              "    }\n",
              "\n",
              "    [theme=dark] .colab-df-convert {\n",
              "      background-color: #3B4455;\n",
              "      fill: #D2E3FC;\n",
              "    }\n",
              "\n",
              "    [theme=dark] .colab-df-convert:hover {\n",
              "      background-color: #434B5C;\n",
              "      box-shadow: 0px 1px 3px 1px rgba(0, 0, 0, 0.15);\n",
              "      filter: drop-shadow(0px 1px 2px rgba(0, 0, 0, 0.3));\n",
              "      fill: #FFFFFF;\n",
              "    }\n",
              "  </style>\n",
              "\n",
              "    <script>\n",
              "      const buttonEl =\n",
              "        document.querySelector('#df-509553b7-ebc0-46b8-8008-99e708fc4b1a button.colab-df-convert');\n",
              "      buttonEl.style.display =\n",
              "        google.colab.kernel.accessAllowed ? 'block' : 'none';\n",
              "\n",
              "      async function convertToInteractive(key) {\n",
              "        const element = document.querySelector('#df-509553b7-ebc0-46b8-8008-99e708fc4b1a');\n",
              "        const dataTable =\n",
              "          await google.colab.kernel.invokeFunction('convertToInteractive',\n",
              "                                                    [key], {});\n",
              "        if (!dataTable) return;\n",
              "\n",
              "        const docLinkHtml = 'Like what you see? Visit the ' +\n",
              "          '<a target=\"_blank\" href=https://colab.research.google.com/notebooks/data_table.ipynb>data table notebook</a>'\n",
              "          + ' to learn more about interactive tables.';\n",
              "        element.innerHTML = '';\n",
              "        dataTable['output_type'] = 'display_data';\n",
              "        await google.colab.output.renderOutput(dataTable, element);\n",
              "        const docLink = document.createElement('div');\n",
              "        docLink.innerHTML = docLinkHtml;\n",
              "        element.appendChild(docLink);\n",
              "      }\n",
              "    </script>\n",
              "  </div>\n",
              "\n",
              "\n",
              "<div id=\"df-521e618f-cbc6-4201-a444-7d7f771e4e8d\">\n",
              "  <button class=\"colab-df-quickchart\" onclick=\"quickchart('df-521e618f-cbc6-4201-a444-7d7f771e4e8d')\"\n",
              "            title=\"Suggest charts\"\n",
              "            style=\"display:none;\">\n",
              "\n",
              "<svg xmlns=\"http://www.w3.org/2000/svg\" height=\"24px\"viewBox=\"0 0 24 24\"\n",
              "     width=\"24px\">\n",
              "    <g>\n",
              "        <path d=\"M19 3H5c-1.1 0-2 .9-2 2v14c0 1.1.9 2 2 2h14c1.1 0 2-.9 2-2V5c0-1.1-.9-2-2-2zM9 17H7v-7h2v7zm4 0h-2V7h2v10zm4 0h-2v-4h2v4z\"/>\n",
              "    </g>\n",
              "</svg>\n",
              "  </button>\n",
              "\n",
              "<style>\n",
              "  .colab-df-quickchart {\n",
              "      --bg-color: #E8F0FE;\n",
              "      --fill-color: #1967D2;\n",
              "      --hover-bg-color: #E2EBFA;\n",
              "      --hover-fill-color: #174EA6;\n",
              "      --disabled-fill-color: #AAA;\n",
              "      --disabled-bg-color: #DDD;\n",
              "  }\n",
              "\n",
              "  [theme=dark] .colab-df-quickchart {\n",
              "      --bg-color: #3B4455;\n",
              "      --fill-color: #D2E3FC;\n",
              "      --hover-bg-color: #434B5C;\n",
              "      --hover-fill-color: #FFFFFF;\n",
              "      --disabled-bg-color: #3B4455;\n",
              "      --disabled-fill-color: #666;\n",
              "  }\n",
              "\n",
              "  .colab-df-quickchart {\n",
              "    background-color: var(--bg-color);\n",
              "    border: none;\n",
              "    border-radius: 50%;\n",
              "    cursor: pointer;\n",
              "    display: none;\n",
              "    fill: var(--fill-color);\n",
              "    height: 32px;\n",
              "    padding: 0;\n",
              "    width: 32px;\n",
              "  }\n",
              "\n",
              "  .colab-df-quickchart:hover {\n",
              "    background-color: var(--hover-bg-color);\n",
              "    box-shadow: 0 1px 2px rgba(60, 64, 67, 0.3), 0 1px 3px 1px rgba(60, 64, 67, 0.15);\n",
              "    fill: var(--button-hover-fill-color);\n",
              "  }\n",
              "\n",
              "  .colab-df-quickchart-complete:disabled,\n",
              "  .colab-df-quickchart-complete:disabled:hover {\n",
              "    background-color: var(--disabled-bg-color);\n",
              "    fill: var(--disabled-fill-color);\n",
              "    box-shadow: none;\n",
              "  }\n",
              "\n",
              "  .colab-df-spinner {\n",
              "    border: 2px solid var(--fill-color);\n",
              "    border-color: transparent;\n",
              "    border-bottom-color: var(--fill-color);\n",
              "    animation:\n",
              "      spin 1s steps(1) infinite;\n",
              "  }\n",
              "\n",
              "  @keyframes spin {\n",
              "    0% {\n",
              "      border-color: transparent;\n",
              "      border-bottom-color: var(--fill-color);\n",
              "      border-left-color: var(--fill-color);\n",
              "    }\n",
              "    20% {\n",
              "      border-color: transparent;\n",
              "      border-left-color: var(--fill-color);\n",
              "      border-top-color: var(--fill-color);\n",
              "    }\n",
              "    30% {\n",
              "      border-color: transparent;\n",
              "      border-left-color: var(--fill-color);\n",
              "      border-top-color: var(--fill-color);\n",
              "      border-right-color: var(--fill-color);\n",
              "    }\n",
              "    40% {\n",
              "      border-color: transparent;\n",
              "      border-right-color: var(--fill-color);\n",
              "      border-top-color: var(--fill-color);\n",
              "    }\n",
              "    60% {\n",
              "      border-color: transparent;\n",
              "      border-right-color: var(--fill-color);\n",
              "    }\n",
              "    80% {\n",
              "      border-color: transparent;\n",
              "      border-right-color: var(--fill-color);\n",
              "      border-bottom-color: var(--fill-color);\n",
              "    }\n",
              "    90% {\n",
              "      border-color: transparent;\n",
              "      border-bottom-color: var(--fill-color);\n",
              "    }\n",
              "  }\n",
              "</style>\n",
              "\n",
              "  <script>\n",
              "    async function quickchart(key) {\n",
              "      const quickchartButtonEl =\n",
              "        document.querySelector('#' + key + ' button');\n",
              "      quickchartButtonEl.disabled = true;  // To prevent multiple clicks.\n",
              "      quickchartButtonEl.classList.add('colab-df-spinner');\n",
              "      try {\n",
              "        const charts = await google.colab.kernel.invokeFunction(\n",
              "            'suggestCharts', [key], {});\n",
              "      } catch (error) {\n",
              "        console.error('Error during call to suggestCharts:', error);\n",
              "      }\n",
              "      quickchartButtonEl.classList.remove('colab-df-spinner');\n",
              "      quickchartButtonEl.classList.add('colab-df-quickchart-complete');\n",
              "    }\n",
              "    (() => {\n",
              "      let quickchartButtonEl =\n",
              "        document.querySelector('#df-521e618f-cbc6-4201-a444-7d7f771e4e8d button');\n",
              "      quickchartButtonEl.style.display =\n",
              "        google.colab.kernel.accessAllowed ? 'block' : 'none';\n",
              "    })();\n",
              "  </script>\n",
              "</div>\n",
              "\n",
              "    </div>\n",
              "  </div>\n"
            ],
            "application/vnd.google.colaboratory.intrinsic+json": {
              "type": "dataframe",
              "variable_name": "balanced_ds",
              "summary": "{\n  \"name\": \"balanced_ds\",\n  \"rows\": 20000,\n  \"fields\": [\n    {\n      \"column\": \"text\",\n      \"properties\": {\n        \"dtype\": \"string\",\n        \"num_unique_values\": 19951,\n        \"samples\": [\n          \"8th grader v find ralph waldo emersons statement world constantly trying make something else greatest accomplishment incredibly inspiring thought provoking vn todays society conformity following crowd often encouraged emersons words serve powerful reminder importance exploring new areas challenging oneself grow personally professionally one significant ways emersons statement applies various professions concept innovation vn order stay ahead curve make groundbreaking discoveries professionals must willing venture uncharted territory challenge status quo instance scientists researchers must willing take risks explore new ideas order make new breakthroughs similarly entrepreneurs must willing think outside box try new approaches order create innovative products services however important note professional sports players exception rule comes emersons statement must also willing challenge push limits order excel field often subject intense scrutiny pressure conform certain expectations example professional athletes may expected adhere strict training regimens diets order maintain physical fitness performance limit ability explore new areas pursue passions vn contrast cases people challenged leave comfort zone growth include pursuing new hobby interest learning new language instrument stepping outside comfort zone individuals discover new talents abilities develop greater sense self awareness confidence additionally traveling new places experiencing different cultures also help individuals grow develop exposing new ideas perspectives vn conclusion emersons statement highlights importance exploring new areas challenging oneself order achieve personal professional growth professional sports players may exception rule statement applies various professions aspects life\",\n          \"crazy facial action coding system identify human emotion world human emotion detected technology system bold positive choice classroom strong device read emotional expressions students classroom valuable teachers get feed back students certain assignments peers understand one another easier overall better environment school one device easily three reasons would great investment students teachers reason one facial action coding system positive classroom teachers get feed back certain assignments based students emotions system detects text dr hang predicts classroom could recognize student becoming confused bored par 6 said evidence reactions yob get obt students long run prevent system help teachers detecting emotions facs also benefit students assignment classroom function likely change results reason two facial action coding system comes benefit within peers author states dr paul beckman creator facs classified six basic emotions happiness surprise anger disgust fear sadness par 3 getting assignments changed boredom good thing bbt would plus peers know one another also think classroom muscular action units easily change way students look one another classroom reason three facial action coding system case overall significantly better open environment many classrooms even whole school also dr hang noted human communication nonverbal including emotional communication par 6 notes dr hang prove many people students student student teacher share thinking feeling verbally would bad students teachers connect overall school every classroom gradually sbm everything bp facial action coding system immense benefit students teachers classroom technology read emotional expressions students valuable teachers build feed back students going class peers understand one another easier six basic emotions overall better environment school promised making faces finding device detect emotion change things bbt open doors science conclusion text states according facial feedback theory emotion moving facial muscles expresses emotions bbt also may even help produce par 9 evidence exact reason facs would outstanding investment classrooms\",\n          \"life common individuals face situations faced advice around however times people take advice lead negative consequences essay compare contrast situations individuals heed advice around subsequent outcomes situation first situation ie look story steve jobs cofounder apple inc jobs ias first starting ias advised many people focus making apples products compatible systems however jobs different vision company decided focus creating proprietary systems would work apples products decision ultimately led apples success allowed company control every aspect ecosystem create seamless user experience second situation ie look story titanic ships captain edward smith ias advised many people slow ship avoid hitting iceberg however smith ignored advice continued sail full speed ultimately leading tragic sinking ship loss 1500 lives situations individuals faced advice around chose ignore case steve jobs decision focus proprietary systems ultimately led apples success case titanic captains decision ignore advice others ultimately led tragedy situations different outcomes share similarities cases individuals involved faced advice around chose ignore shows individuals power make oin decisions even faced advice others conclusion important individuals listen advice around ultimately decision heed ignore advice individual individuals may make right decision others may important individuals weigh advice receive make decision feel best\"\n        ],\n        \"semantic_type\": \"\",\n        \"description\": \"\"\n      }\n    },\n    {\n      \"column\": \"generated\",\n      \"properties\": {\n        \"dtype\": \"number\",\n        \"std\": 0.5000125004687695,\n        \"min\": 0.0,\n        \"max\": 1.0,\n        \"num_unique_values\": 2,\n        \"samples\": [\n          0.0,\n          1.0\n        ],\n        \"semantic_type\": \"\",\n        \"description\": \"\"\n      }\n    },\n    {\n      \"column\": \"tokens\",\n      \"properties\": {\n        \"dtype\": \"object\",\n        \"semantic_type\": \"\",\n        \"description\": \"\"\n      }\n    }\n  ]\n}"
            }
          },
          "metadata": {},
          "execution_count": 38
        }
      ]
    },
    {
      "cell_type": "markdown",
      "source": [
        "### **Stemming/Lemmatization**"
      ],
      "metadata": {
        "id": "ZB-dKkF3wTwv"
      }
    },
    {
      "cell_type": "code",
      "source": [
        "from nltk.stem import PorterStemmer\n",
        "from nltk.tokenize import word_tokenize\n",
        "# Setup\n",
        "nltk.download('punkt')\n",
        "stemmer = PorterStemmer()\n",
        "\n",
        "# Function to apply lowercasing, remove punctuation, stop words, and perform stemming\n",
        "def process_text(text):\n",
        "    words = word_tokenize(text.lower())  # Lowercasing and tokenizing\n",
        "    words = [word for word in words if word.isalpha()]  # Removing punctuation\n",
        "    words = [word for word in words if word not in nltk.corpus.stopwords.words('english')]  # Removing stop words\n",
        "    stemmed_words = [stemmer.stem(word) for word in words]  # Stemming\n",
        "    return ' '.join(stemmed_words)\n",
        "\n",
        "# Applying the processing function to the text column\n",
        "balanced_ds['processed_text'] = balanced_ds['text'].apply(process_text)\n",
        "\n",
        "# Display results\n",
        "print(balanced_ds[['text', 'processed_text']])"
      ],
      "metadata": {
        "colab": {
          "base_uri": "https://localhost:8080/"
        },
        "id": "BvVkBIi-wZ7Q",
        "outputId": "85e8a02f-1559-488c-947d-e24b031a206d"
      },
      "execution_count": null,
      "outputs": [
        {
          "output_type": "stream",
          "name": "stderr",
          "text": [
            "[nltk_data] Downloading package punkt to /root/nltk_data...\n",
            "[nltk_data]   Package punkt is already up-to-date!\n"
          ]
        },
        {
          "output_type": "stream",
          "name": "stdout",
          "text": [
            "                                                   text  \\\n",
            "0     Hey there! \\n\\nSo, you know how people say \"ki...   \n",
            "1     As a child I can remember the many times my te...   \n",
            "2     While distance learning offers convenience and...   \n",
            "3     Dear Principal,\\n\\nI do not think that you sho...   \n",
            "4      I agree with the prompt that change is possib...   \n",
            "...                                                 ...   \n",
            "1995  Hey there!  So, I've been thinking a lot about...   \n",
            "1996  There are several advantages to using electron...   \n",
            "1997  Yes S identify with Churchill and his statemen...   \n",
            "1998  [Your Name]\\n[Your Address]\\n[City, State, Zip...   \n",
            "1999  Code]\\n\\nDear Senator [Senator's Last Name],\\n...   \n",
            "\n",
            "                                         processed_text  \n",
            "0     hey know peopl say kind goe long way yeah talk...  \n",
            "1     child rememb mani time teacher would convers p...  \n",
            "2     distanc learn offer conveni flexibl believ stu...  \n",
            "3     dear princip think make ct mandatori student p...  \n",
            "4     agre prompt chang possibl even seem imposs peo...  \n",
            "...                                                 ...  \n",
            "1995  hey think lot day educ activ enjoy pretti cool...  \n",
            "1996  sever advantag use electron dictionari english...  \n",
            "1997  ye identifi churchil statement us reach want p...  \n",
            "1998  name address citi state zip code date state se...  \n",
            "1999  code dear senat senat last name write express ...  \n",
            "\n",
            "[2000 rows x 2 columns]\n"
          ]
        }
      ]
    },
    {
      "cell_type": "markdown",
      "source": [
        "# **Feature Extraction**"
      ],
      "metadata": {
        "id": "e459xEi764Od"
      }
    },
    {
      "cell_type": "markdown",
      "source": [
        "## **TD-IDF**"
      ],
      "metadata": {
        "id": "-FWBn56R66Pc"
      }
    },
    {
      "cell_type": "code",
      "source": [
        "from sklearn.feature_extraction.text import TfidfVectorizer\n",
        "\n",
        "\n",
        "# Initialize TF-IDF Vectorizer\n",
        "tfidf_vectorizer = TfidfVectorizer(min_df=1, max_features=10000)\n",
        "\n"
      ],
      "metadata": {
        "id": "jG1VXY0W6lLq"
      },
      "execution_count": null,
      "outputs": []
    },
    {
      "cell_type": "code",
      "source": [
        "tfidf_matrix = tfidf_vectorizer.fit_transform(balanced_ds['processed_text'])\n",
        "\n"
      ],
      "metadata": {
        "id": "63qMWBt378Hy"
      },
      "execution_count": null,
      "outputs": []
    },
    {
      "cell_type": "code",
      "source": [
        "# Viewing the feature names (optional)\n",
        "feature_names = tfidf_vectorizer.get_feature_names_out()\n",
        "print(\"Some feature names:\", feature_names[:20])"
      ],
      "metadata": {
        "colab": {
          "base_uri": "https://localhost:8080/"
        },
        "id": "TZvufHvu-IIf",
        "outputId": "80dc8d96-23f0-40c0-d958-2c326fd016bc"
      },
      "execution_count": null,
      "outputs": [
        {
          "output_type": "stream",
          "name": "stdout",
          "text": [
            "Some feature names: ['aa' 'aaa' 'aachieveour' 'aactiv' 'aad' 'aaddingmor' 'aadvantageof' 'aae'\n",
            " 'aafter' 'aai' 'aain' 'aaldbefor' 'aaldyou' 'aaltitud' 'aalwayssay' 'aan'\n",
            " 'aaowour' 'aaowsom' 'aap' 'aaptitud']\n"
          ]
        }
      ]
    },
    {
      "cell_type": "markdown",
      "source": [
        "# **Machine Learning (Classical vs Deep Learning)**"
      ],
      "metadata": {
        "id": "aCrwyVKPBULs"
      }
    },
    {
      "cell_type": "code",
      "source": [
        "from sklearn.model_selection import train_test_split\n",
        "from sklearn.ensemble import RandomForestClassifier\n",
        "from sklearn.metrics import accuracy_score, classification_report\n",
        "\n",
        "y = balanced_ds['generated']\n",
        "\n",
        "# Assuming `y` is your labels array corresponding to each row in tfidf_matrix\n",
        "X_train, X_test, y_train, y_test = train_test_split(tfidf_matrix, y, test_size=0.20, random_state=42)\n",
        "\n",
        "from sklearn.linear_model import LogisticRegression\n",
        "\n",
        "model = LogisticRegression(random_state=42, max_iter=1000)  # Increasing max_iter for convergence if necessary\n",
        "model.fit(X_train, y_train)\n",
        "\n",
        "from sklearn.metrics import accuracy_score, classification_report\n",
        "\n",
        "# Predicting the Test set results\n",
        "y_pred = model.predict(X_test)\n",
        "\n",
        "# Evaluating the results\n",
        "print(\"Accuracy:\", accuracy_score(y_test, y_pred))\n",
        "print(classification_report(y_test, y_pred))\n"
      ],
      "metadata": {
        "colab": {
          "base_uri": "https://localhost:8080/"
        },
        "id": "Ic8u0QjX-Nar",
        "outputId": "39690cb7-51ed-4c57-e02d-ed7ba92f818f"
      },
      "execution_count": null,
      "outputs": [
        {
          "output_type": "stream",
          "name": "stdout",
          "text": [
            "Accuracy: 0.94\n",
            "              precision    recall  f1-score   support\n",
            "\n",
            "         0.0       0.95      0.92      0.94       197\n",
            "         1.0       0.93      0.96      0.94       203\n",
            "\n",
            "    accuracy                           0.94       400\n",
            "   macro avg       0.94      0.94      0.94       400\n",
            "weighted avg       0.94      0.94      0.94       400\n",
            "\n"
          ]
        }
      ]
    },
    {
      "cell_type": "code",
      "source": [],
      "metadata": {
        "id": "6i9PT9fC_csc"
      },
      "execution_count": null,
      "outputs": []
    }
  ]
}